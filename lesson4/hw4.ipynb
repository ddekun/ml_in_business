{
  "nbformat": 4,
  "nbformat_minor": 0,
  "metadata": {
    "colab": {
      "provenance": [],
      "mount_file_id": "1Xkq5Oaj6MAD3tqkDmHByhJGz2YK4MJub",
      "authorship_tag": "ABX9TyPsubzEOH8013yTUxhpUFEU",
      "include_colab_link": true
    },
    "kernelspec": {
      "name": "python3",
      "display_name": "Python 3"
    },
    "language_info": {
      "name": "python"
    }
  },
  "cells": [
    {
      "cell_type": "markdown",
      "metadata": {
        "id": "view-in-github",
        "colab_type": "text"
      },
      "source": [
        "<a href=\"https://colab.research.google.com/github/ddekun/ml_in_business/blob/lesson4/lesson4/hw4.ipynb\" target=\"_parent\"><img src=\"https://colab.research.google.com/assets/colab-badge.svg\" alt=\"Open In Colab\"/></a>"
      ]
    },
    {
      "cell_type": "markdown",
      "source": [
        "# Машинное обучение в бизнесе"
      ],
      "metadata": {
        "id": "fI2wsympDkvn"
      }
    },
    {
      "cell_type": "markdown",
      "source": [
        "## Урок 4. Uplift-моделирование"
      ],
      "metadata": {
        "id": "OJfE77gZDbBG"
      }
    },
    {
      "cell_type": "markdown",
      "source": [
        "### Домашнее задание"
      ],
      "metadata": {
        "id": "ziNWK3p_EJy7"
      }
    },
    {
      "cell_type": "markdown",
      "source": [
        "1. скачать набор данных маркетинговых кампаний отсюда https://www.kaggle.com/davinwijaya/customer-retention\n",
        "2. там поле conversion - это целевая переменная, а offer - коммуникация. Переименовать поля (conversion -> target, offer -> treatment) и привести поле treatment к бинарному виду (1 или 0, т.е было какое-то предложение или нет) - значение No Offer означает отсутствие коммуникации, а все остальные - наличие.\n",
        "3. сделать разбиение набора данных не тренировочную и тестовую выборки\n",
        "4. сделать feature engineering на ваше усмотрение (допускается свобода выбора методов)\n",
        "5. провести uplift-моделирование 3 способами: одна модель с признаком коммуникации (S learner), модель с трансформацией таргета (трансформация классов п. 2. 1) и вариант с двумя независимыми моделями\n",
        "6. в конце вывести единую таблицу сравнения метрик uplift@10%, uplift@20% этих 3 моделей\n",
        "7. построить модель UpliftTreeClassifier и попытаться описать словами полученное дерево"
      ],
      "metadata": {
        "id": "s27awGbYDQHO"
      }
    },
    {
      "cell_type": "code",
      "source": [
        "!pip install mplcyberpunk\n",
        "!pip install scikit-uplift"
      ],
      "metadata": {
        "colab": {
          "base_uri": "https://localhost:8080/"
        },
        "id": "kEzEbpFcHsaN",
        "outputId": "71286a2f-7937-40cf-abc8-ce0118ab547f"
      },
      "execution_count": 5,
      "outputs": [
        {
          "output_type": "stream",
          "name": "stdout",
          "text": [
            "Looking in indexes: https://pypi.org/simple, https://us-python.pkg.dev/colab-wheels/public/simple/\n",
            "Requirement already satisfied: mplcyberpunk in /usr/local/lib/python3.8/dist-packages (0.6.0)\n",
            "Requirement already satisfied: matplotlib in /usr/local/lib/python3.8/dist-packages (from mplcyberpunk) (3.2.2)\n",
            "Requirement already satisfied: cycler>=0.10 in /usr/local/lib/python3.8/dist-packages (from matplotlib->mplcyberpunk) (0.11.0)\n",
            "Requirement already satisfied: numpy>=1.11 in /usr/local/lib/python3.8/dist-packages (from matplotlib->mplcyberpunk) (1.21.6)\n",
            "Requirement already satisfied: kiwisolver>=1.0.1 in /usr/local/lib/python3.8/dist-packages (from matplotlib->mplcyberpunk) (1.4.4)\n",
            "Requirement already satisfied: python-dateutil>=2.1 in /usr/local/lib/python3.8/dist-packages (from matplotlib->mplcyberpunk) (2.8.2)\n",
            "Requirement already satisfied: pyparsing!=2.0.4,!=2.1.2,!=2.1.6,>=2.0.1 in /usr/local/lib/python3.8/dist-packages (from matplotlib->mplcyberpunk) (3.0.9)\n",
            "Requirement already satisfied: six>=1.5 in /usr/local/lib/python3.8/dist-packages (from python-dateutil>=2.1->matplotlib->mplcyberpunk) (1.15.0)\n",
            "Looking in indexes: https://pypi.org/simple, https://us-python.pkg.dev/colab-wheels/public/simple/\n",
            "Collecting scikit-uplift\n",
            "  Downloading scikit_uplift-0.5.1-py3-none-any.whl (42 kB)\n",
            "\u001b[2K     \u001b[90m━━━━━━━━━━━━━━━━━━━━━━━━━━━━━━━━━━━━━━━━\u001b[0m \u001b[32m42.1/42.1 KB\u001b[0m \u001b[31m1.6 MB/s\u001b[0m eta \u001b[36m0:00:00\u001b[0m\n",
            "\u001b[?25hRequirement already satisfied: numpy>=1.16 in /usr/local/lib/python3.8/dist-packages (from scikit-uplift) (1.21.6)\n",
            "Requirement already satisfied: tqdm in /usr/local/lib/python3.8/dist-packages (from scikit-uplift) (4.64.1)\n",
            "Requirement already satisfied: matplotlib in /usr/local/lib/python3.8/dist-packages (from scikit-uplift) (3.2.2)\n",
            "Requirement already satisfied: scikit-learn>=0.21.0 in /usr/local/lib/python3.8/dist-packages (from scikit-uplift) (1.0.2)\n",
            "Requirement already satisfied: pandas in /usr/local/lib/python3.8/dist-packages (from scikit-uplift) (1.3.5)\n",
            "Requirement already satisfied: requests in /usr/local/lib/python3.8/dist-packages (from scikit-uplift) (2.25.1)\n",
            "Requirement already satisfied: threadpoolctl>=2.0.0 in /usr/local/lib/python3.8/dist-packages (from scikit-learn>=0.21.0->scikit-uplift) (3.1.0)\n",
            "Requirement already satisfied: scipy>=1.1.0 in /usr/local/lib/python3.8/dist-packages (from scikit-learn>=0.21.0->scikit-uplift) (1.7.3)\n",
            "Requirement already satisfied: joblib>=0.11 in /usr/local/lib/python3.8/dist-packages (from scikit-learn>=0.21.0->scikit-uplift) (1.2.0)\n",
            "Requirement already satisfied: pyparsing!=2.0.4,!=2.1.2,!=2.1.6,>=2.0.1 in /usr/local/lib/python3.8/dist-packages (from matplotlib->scikit-uplift) (3.0.9)\n",
            "Requirement already satisfied: kiwisolver>=1.0.1 in /usr/local/lib/python3.8/dist-packages (from matplotlib->scikit-uplift) (1.4.4)\n",
            "Requirement already satisfied: python-dateutil>=2.1 in /usr/local/lib/python3.8/dist-packages (from matplotlib->scikit-uplift) (2.8.2)\n",
            "Requirement already satisfied: cycler>=0.10 in /usr/local/lib/python3.8/dist-packages (from matplotlib->scikit-uplift) (0.11.0)\n",
            "Requirement already satisfied: pytz>=2017.3 in /usr/local/lib/python3.8/dist-packages (from pandas->scikit-uplift) (2022.7.1)\n",
            "Requirement already satisfied: certifi>=2017.4.17 in /usr/local/lib/python3.8/dist-packages (from requests->scikit-uplift) (2022.12.7)\n",
            "Requirement already satisfied: chardet<5,>=3.0.2 in /usr/local/lib/python3.8/dist-packages (from requests->scikit-uplift) (4.0.0)\n",
            "Requirement already satisfied: urllib3<1.27,>=1.21.1 in /usr/local/lib/python3.8/dist-packages (from requests->scikit-uplift) (1.24.3)\n",
            "Requirement already satisfied: idna<3,>=2.5 in /usr/local/lib/python3.8/dist-packages (from requests->scikit-uplift) (2.10)\n",
            "Requirement already satisfied: six>=1.5 in /usr/local/lib/python3.8/dist-packages (from python-dateutil>=2.1->matplotlib->scikit-uplift) (1.15.0)\n",
            "Installing collected packages: scikit-uplift\n",
            "Successfully installed scikit-uplift-0.5.1\n"
          ]
        }
      ]
    },
    {
      "cell_type": "code",
      "execution_count": 6,
      "metadata": {
        "id": "F2XyabUTCTor"
      },
      "outputs": [],
      "source": [
        "import numpy as np\n",
        "import pandas as pd\n",
        "\n",
        "from sklearn.model_selection import train_test_split\n",
        "from sklearn.base import BaseEstimator, TransformerMixin\n",
        "from sklearn.pipeline import Pipeline\n",
        "from sklearn.preprocessing import StandardScaler\n",
        "from sklearn.pipeline import FeatureUnion\n",
        "from sklearn.ensemble import RandomForestClassifier\n",
        "\n",
        "\n",
        "# Visual libraries\n",
        "import matplotlib\n",
        "import matplotlib.pyplot as plt\n",
        "# import seaborn as sns\n",
        "import mplcyberpunk\n",
        "\n",
        "%matplotlib inline\n",
        "matplotlib.rcParams.update({'font.size': 14})\n",
        "# sns.set(font_scale=1.5)\n",
        "plt.style.use('cyberpunk')\n",
        "\n",
        "from sklift.metrics import uplift_at_k\n",
        "from sklift.viz import plot_uplift_preds\n",
        "from sklift.models import SoloModel\n",
        "from sklift.models import ClassTransformation\n",
        "from sklift.models import TwoModels"
      ]
    },
    {
      "cell_type": "code",
      "source": [
        "import warnings\n",
        "warnings.filterwarnings('ignore')"
      ],
      "metadata": {
        "id": "kQvcRU8sGa5f"
      },
      "execution_count": 7,
      "outputs": []
    },
    {
      "cell_type": "markdown",
      "source": [
        "**1. Скачать набор данных маркетинговых кампаний отсюда https://www.kaggle.com/davinwijaya/customer-retention**"
      ],
      "metadata": {
        "id": "tHdOeBvOGnFV"
      }
    },
    {
      "cell_type": "code",
      "source": [
        "df = pd.read_csv('/content/drive/MyDrive/Geekbrains/ml_in_business/lesson4/data.csv')\n",
        "\n",
        "df.head(3)"
      ],
      "metadata": {
        "colab": {
          "base_uri": "https://localhost:8080/",
          "height": 143
        },
        "id": "e6cdm9fhG6nU",
        "outputId": "207d9b4d-5742-4761-a50a-169a78e42b2f"
      },
      "execution_count": 8,
      "outputs": [
        {
          "output_type": "execute_result",
          "data": {
            "text/plain": [
              "   recency  history  used_discount  used_bogo   zip_code  is_referral channel  \\\n",
              "0       10   142.44              1          0  Surburban            0   Phone   \n",
              "1        6   329.08              1          1      Rural            1     Web   \n",
              "2        7   180.65              0          1  Surburban            1     Web   \n",
              "\n",
              "             offer  conversion  \n",
              "0  Buy One Get One           0  \n",
              "1         No Offer           0  \n",
              "2  Buy One Get One           0  "
            ],
            "text/html": [
              "\n",
              "  <div id=\"df-3b6270a1-7472-49a5-adc4-382b5058d170\">\n",
              "    <div class=\"colab-df-container\">\n",
              "      <div>\n",
              "<style scoped>\n",
              "    .dataframe tbody tr th:only-of-type {\n",
              "        vertical-align: middle;\n",
              "    }\n",
              "\n",
              "    .dataframe tbody tr th {\n",
              "        vertical-align: top;\n",
              "    }\n",
              "\n",
              "    .dataframe thead th {\n",
              "        text-align: right;\n",
              "    }\n",
              "</style>\n",
              "<table border=\"1\" class=\"dataframe\">\n",
              "  <thead>\n",
              "    <tr style=\"text-align: right;\">\n",
              "      <th></th>\n",
              "      <th>recency</th>\n",
              "      <th>history</th>\n",
              "      <th>used_discount</th>\n",
              "      <th>used_bogo</th>\n",
              "      <th>zip_code</th>\n",
              "      <th>is_referral</th>\n",
              "      <th>channel</th>\n",
              "      <th>offer</th>\n",
              "      <th>conversion</th>\n",
              "    </tr>\n",
              "  </thead>\n",
              "  <tbody>\n",
              "    <tr>\n",
              "      <th>0</th>\n",
              "      <td>10</td>\n",
              "      <td>142.44</td>\n",
              "      <td>1</td>\n",
              "      <td>0</td>\n",
              "      <td>Surburban</td>\n",
              "      <td>0</td>\n",
              "      <td>Phone</td>\n",
              "      <td>Buy One Get One</td>\n",
              "      <td>0</td>\n",
              "    </tr>\n",
              "    <tr>\n",
              "      <th>1</th>\n",
              "      <td>6</td>\n",
              "      <td>329.08</td>\n",
              "      <td>1</td>\n",
              "      <td>1</td>\n",
              "      <td>Rural</td>\n",
              "      <td>1</td>\n",
              "      <td>Web</td>\n",
              "      <td>No Offer</td>\n",
              "      <td>0</td>\n",
              "    </tr>\n",
              "    <tr>\n",
              "      <th>2</th>\n",
              "      <td>7</td>\n",
              "      <td>180.65</td>\n",
              "      <td>0</td>\n",
              "      <td>1</td>\n",
              "      <td>Surburban</td>\n",
              "      <td>1</td>\n",
              "      <td>Web</td>\n",
              "      <td>Buy One Get One</td>\n",
              "      <td>0</td>\n",
              "    </tr>\n",
              "  </tbody>\n",
              "</table>\n",
              "</div>\n",
              "      <button class=\"colab-df-convert\" onclick=\"convertToInteractive('df-3b6270a1-7472-49a5-adc4-382b5058d170')\"\n",
              "              title=\"Convert this dataframe to an interactive table.\"\n",
              "              style=\"display:none;\">\n",
              "        \n",
              "  <svg xmlns=\"http://www.w3.org/2000/svg\" height=\"24px\"viewBox=\"0 0 24 24\"\n",
              "       width=\"24px\">\n",
              "    <path d=\"M0 0h24v24H0V0z\" fill=\"none\"/>\n",
              "    <path d=\"M18.56 5.44l.94 2.06.94-2.06 2.06-.94-2.06-.94-.94-2.06-.94 2.06-2.06.94zm-11 1L8.5 8.5l.94-2.06 2.06-.94-2.06-.94L8.5 2.5l-.94 2.06-2.06.94zm10 10l.94 2.06.94-2.06 2.06-.94-2.06-.94-.94-2.06-.94 2.06-2.06.94z\"/><path d=\"M17.41 7.96l-1.37-1.37c-.4-.4-.92-.59-1.43-.59-.52 0-1.04.2-1.43.59L10.3 9.45l-7.72 7.72c-.78.78-.78 2.05 0 2.83L4 21.41c.39.39.9.59 1.41.59.51 0 1.02-.2 1.41-.59l7.78-7.78 2.81-2.81c.8-.78.8-2.07 0-2.86zM5.41 20L4 18.59l7.72-7.72 1.47 1.35L5.41 20z\"/>\n",
              "  </svg>\n",
              "      </button>\n",
              "      \n",
              "  <style>\n",
              "    .colab-df-container {\n",
              "      display:flex;\n",
              "      flex-wrap:wrap;\n",
              "      gap: 12px;\n",
              "    }\n",
              "\n",
              "    .colab-df-convert {\n",
              "      background-color: #E8F0FE;\n",
              "      border: none;\n",
              "      border-radius: 50%;\n",
              "      cursor: pointer;\n",
              "      display: none;\n",
              "      fill: #1967D2;\n",
              "      height: 32px;\n",
              "      padding: 0 0 0 0;\n",
              "      width: 32px;\n",
              "    }\n",
              "\n",
              "    .colab-df-convert:hover {\n",
              "      background-color: #E2EBFA;\n",
              "      box-shadow: 0px 1px 2px rgba(60, 64, 67, 0.3), 0px 1px 3px 1px rgba(60, 64, 67, 0.15);\n",
              "      fill: #174EA6;\n",
              "    }\n",
              "\n",
              "    [theme=dark] .colab-df-convert {\n",
              "      background-color: #3B4455;\n",
              "      fill: #D2E3FC;\n",
              "    }\n",
              "\n",
              "    [theme=dark] .colab-df-convert:hover {\n",
              "      background-color: #434B5C;\n",
              "      box-shadow: 0px 1px 3px 1px rgba(0, 0, 0, 0.15);\n",
              "      filter: drop-shadow(0px 1px 2px rgba(0, 0, 0, 0.3));\n",
              "      fill: #FFFFFF;\n",
              "    }\n",
              "  </style>\n",
              "\n",
              "      <script>\n",
              "        const buttonEl =\n",
              "          document.querySelector('#df-3b6270a1-7472-49a5-adc4-382b5058d170 button.colab-df-convert');\n",
              "        buttonEl.style.display =\n",
              "          google.colab.kernel.accessAllowed ? 'block' : 'none';\n",
              "\n",
              "        async function convertToInteractive(key) {\n",
              "          const element = document.querySelector('#df-3b6270a1-7472-49a5-adc4-382b5058d170');\n",
              "          const dataTable =\n",
              "            await google.colab.kernel.invokeFunction('convertToInteractive',\n",
              "                                                     [key], {});\n",
              "          if (!dataTable) return;\n",
              "\n",
              "          const docLinkHtml = 'Like what you see? Visit the ' +\n",
              "            '<a target=\"_blank\" href=https://colab.research.google.com/notebooks/data_table.ipynb>data table notebook</a>'\n",
              "            + ' to learn more about interactive tables.';\n",
              "          element.innerHTML = '';\n",
              "          dataTable['output_type'] = 'display_data';\n",
              "          await google.colab.output.renderOutput(dataTable, element);\n",
              "          const docLink = document.createElement('div');\n",
              "          docLink.innerHTML = docLinkHtml;\n",
              "          element.appendChild(docLink);\n",
              "        }\n",
              "      </script>\n",
              "    </div>\n",
              "  </div>\n",
              "  "
            ]
          },
          "metadata": {},
          "execution_count": 8
        }
      ]
    },
    {
      "cell_type": "code",
      "source": [
        "df.info()"
      ],
      "metadata": {
        "colab": {
          "base_uri": "https://localhost:8080/"
        },
        "id": "SylY8YTnIDlT",
        "outputId": "66ea42d2-bf22-4caf-9a29-419fa613e79e"
      },
      "execution_count": 9,
      "outputs": [
        {
          "output_type": "stream",
          "name": "stdout",
          "text": [
            "<class 'pandas.core.frame.DataFrame'>\n",
            "RangeIndex: 64000 entries, 0 to 63999\n",
            "Data columns (total 9 columns):\n",
            " #   Column         Non-Null Count  Dtype  \n",
            "---  ------         --------------  -----  \n",
            " 0   recency        64000 non-null  int64  \n",
            " 1   history        64000 non-null  float64\n",
            " 2   used_discount  64000 non-null  int64  \n",
            " 3   used_bogo      64000 non-null  int64  \n",
            " 4   zip_code       64000 non-null  object \n",
            " 5   is_referral    64000 non-null  int64  \n",
            " 6   channel        64000 non-null  object \n",
            " 7   offer          64000 non-null  object \n",
            " 8   conversion     64000 non-null  int64  \n",
            "dtypes: float64(1), int64(5), object(3)\n",
            "memory usage: 4.4+ MB\n"
          ]
        }
      ]
    },
    {
      "cell_type": "markdown",
      "source": [
        "**2. Там поле conversion - это целевая переменная, а offer - коммуникация. Переименовать поля (conversion -> target, offer -> treatment) и привести поле treatment к бинарному виду (1 или 0, т.е было какое-то предложение или нет) - значение No Offer означает отсутствие коммуникации, а все остальные - наличие.**"
      ],
      "metadata": {
        "id": "tfNKoLWDIR_8"
      }
    },
    {
      "cell_type": "code",
      "source": [
        "df['offer'].value_counts()"
      ],
      "metadata": {
        "colab": {
          "base_uri": "https://localhost:8080/"
        },
        "id": "e5ALaICsIWOs",
        "outputId": "af4dfc7a-6f70-4ef9-c6bb-d7d8aec76303"
      },
      "execution_count": 10,
      "outputs": [
        {
          "output_type": "execute_result",
          "data": {
            "text/plain": [
              "Buy One Get One    21387\n",
              "Discount           21307\n",
              "No Offer           21306\n",
              "Name: offer, dtype: int64"
            ]
          },
          "metadata": {},
          "execution_count": 10
        }
      ]
    },
    {
      "cell_type": "code",
      "source": [
        "df.rename(columns= {'conversion' : 'target',  'offer' : 'treatment'}, inplace=True)\n",
        "df['treatment'] = df['treatment'].map({'No Offer': 0, 'Buy One Get One': 1, 'Discount': 1})\n",
        "df.head(3)"
      ],
      "metadata": {
        "colab": {
          "base_uri": "https://localhost:8080/",
          "height": 143
        },
        "id": "dkUSFnNvIz76",
        "outputId": "e6454f02-1996-4ccd-d15d-d251a6ca04d1"
      },
      "execution_count": 11,
      "outputs": [
        {
          "output_type": "execute_result",
          "data": {
            "text/plain": [
              "   recency  history  used_discount  used_bogo   zip_code  is_referral channel  \\\n",
              "0       10   142.44              1          0  Surburban            0   Phone   \n",
              "1        6   329.08              1          1      Rural            1     Web   \n",
              "2        7   180.65              0          1  Surburban            1     Web   \n",
              "\n",
              "   treatment  target  \n",
              "0          1       0  \n",
              "1          0       0  \n",
              "2          1       0  "
            ],
            "text/html": [
              "\n",
              "  <div id=\"df-83716690-7e72-4520-adbc-6638e30968d0\">\n",
              "    <div class=\"colab-df-container\">\n",
              "      <div>\n",
              "<style scoped>\n",
              "    .dataframe tbody tr th:only-of-type {\n",
              "        vertical-align: middle;\n",
              "    }\n",
              "\n",
              "    .dataframe tbody tr th {\n",
              "        vertical-align: top;\n",
              "    }\n",
              "\n",
              "    .dataframe thead th {\n",
              "        text-align: right;\n",
              "    }\n",
              "</style>\n",
              "<table border=\"1\" class=\"dataframe\">\n",
              "  <thead>\n",
              "    <tr style=\"text-align: right;\">\n",
              "      <th></th>\n",
              "      <th>recency</th>\n",
              "      <th>history</th>\n",
              "      <th>used_discount</th>\n",
              "      <th>used_bogo</th>\n",
              "      <th>zip_code</th>\n",
              "      <th>is_referral</th>\n",
              "      <th>channel</th>\n",
              "      <th>treatment</th>\n",
              "      <th>target</th>\n",
              "    </tr>\n",
              "  </thead>\n",
              "  <tbody>\n",
              "    <tr>\n",
              "      <th>0</th>\n",
              "      <td>10</td>\n",
              "      <td>142.44</td>\n",
              "      <td>1</td>\n",
              "      <td>0</td>\n",
              "      <td>Surburban</td>\n",
              "      <td>0</td>\n",
              "      <td>Phone</td>\n",
              "      <td>1</td>\n",
              "      <td>0</td>\n",
              "    </tr>\n",
              "    <tr>\n",
              "      <th>1</th>\n",
              "      <td>6</td>\n",
              "      <td>329.08</td>\n",
              "      <td>1</td>\n",
              "      <td>1</td>\n",
              "      <td>Rural</td>\n",
              "      <td>1</td>\n",
              "      <td>Web</td>\n",
              "      <td>0</td>\n",
              "      <td>0</td>\n",
              "    </tr>\n",
              "    <tr>\n",
              "      <th>2</th>\n",
              "      <td>7</td>\n",
              "      <td>180.65</td>\n",
              "      <td>0</td>\n",
              "      <td>1</td>\n",
              "      <td>Surburban</td>\n",
              "      <td>1</td>\n",
              "      <td>Web</td>\n",
              "      <td>1</td>\n",
              "      <td>0</td>\n",
              "    </tr>\n",
              "  </tbody>\n",
              "</table>\n",
              "</div>\n",
              "      <button class=\"colab-df-convert\" onclick=\"convertToInteractive('df-83716690-7e72-4520-adbc-6638e30968d0')\"\n",
              "              title=\"Convert this dataframe to an interactive table.\"\n",
              "              style=\"display:none;\">\n",
              "        \n",
              "  <svg xmlns=\"http://www.w3.org/2000/svg\" height=\"24px\"viewBox=\"0 0 24 24\"\n",
              "       width=\"24px\">\n",
              "    <path d=\"M0 0h24v24H0V0z\" fill=\"none\"/>\n",
              "    <path d=\"M18.56 5.44l.94 2.06.94-2.06 2.06-.94-2.06-.94-.94-2.06-.94 2.06-2.06.94zm-11 1L8.5 8.5l.94-2.06 2.06-.94-2.06-.94L8.5 2.5l-.94 2.06-2.06.94zm10 10l.94 2.06.94-2.06 2.06-.94-2.06-.94-.94-2.06-.94 2.06-2.06.94z\"/><path d=\"M17.41 7.96l-1.37-1.37c-.4-.4-.92-.59-1.43-.59-.52 0-1.04.2-1.43.59L10.3 9.45l-7.72 7.72c-.78.78-.78 2.05 0 2.83L4 21.41c.39.39.9.59 1.41.59.51 0 1.02-.2 1.41-.59l7.78-7.78 2.81-2.81c.8-.78.8-2.07 0-2.86zM5.41 20L4 18.59l7.72-7.72 1.47 1.35L5.41 20z\"/>\n",
              "  </svg>\n",
              "      </button>\n",
              "      \n",
              "  <style>\n",
              "    .colab-df-container {\n",
              "      display:flex;\n",
              "      flex-wrap:wrap;\n",
              "      gap: 12px;\n",
              "    }\n",
              "\n",
              "    .colab-df-convert {\n",
              "      background-color: #E8F0FE;\n",
              "      border: none;\n",
              "      border-radius: 50%;\n",
              "      cursor: pointer;\n",
              "      display: none;\n",
              "      fill: #1967D2;\n",
              "      height: 32px;\n",
              "      padding: 0 0 0 0;\n",
              "      width: 32px;\n",
              "    }\n",
              "\n",
              "    .colab-df-convert:hover {\n",
              "      background-color: #E2EBFA;\n",
              "      box-shadow: 0px 1px 2px rgba(60, 64, 67, 0.3), 0px 1px 3px 1px rgba(60, 64, 67, 0.15);\n",
              "      fill: #174EA6;\n",
              "    }\n",
              "\n",
              "    [theme=dark] .colab-df-convert {\n",
              "      background-color: #3B4455;\n",
              "      fill: #D2E3FC;\n",
              "    }\n",
              "\n",
              "    [theme=dark] .colab-df-convert:hover {\n",
              "      background-color: #434B5C;\n",
              "      box-shadow: 0px 1px 3px 1px rgba(0, 0, 0, 0.15);\n",
              "      filter: drop-shadow(0px 1px 2px rgba(0, 0, 0, 0.3));\n",
              "      fill: #FFFFFF;\n",
              "    }\n",
              "  </style>\n",
              "\n",
              "      <script>\n",
              "        const buttonEl =\n",
              "          document.querySelector('#df-83716690-7e72-4520-adbc-6638e30968d0 button.colab-df-convert');\n",
              "        buttonEl.style.display =\n",
              "          google.colab.kernel.accessAllowed ? 'block' : 'none';\n",
              "\n",
              "        async function convertToInteractive(key) {\n",
              "          const element = document.querySelector('#df-83716690-7e72-4520-adbc-6638e30968d0');\n",
              "          const dataTable =\n",
              "            await google.colab.kernel.invokeFunction('convertToInteractive',\n",
              "                                                     [key], {});\n",
              "          if (!dataTable) return;\n",
              "\n",
              "          const docLinkHtml = 'Like what you see? Visit the ' +\n",
              "            '<a target=\"_blank\" href=https://colab.research.google.com/notebooks/data_table.ipynb>data table notebook</a>'\n",
              "            + ' to learn more about interactive tables.';\n",
              "          element.innerHTML = '';\n",
              "          dataTable['output_type'] = 'display_data';\n",
              "          await google.colab.output.renderOutput(dataTable, element);\n",
              "          const docLink = document.createElement('div');\n",
              "          docLink.innerHTML = docLinkHtml;\n",
              "          element.appendChild(docLink);\n",
              "        }\n",
              "      </script>\n",
              "    </div>\n",
              "  </div>\n",
              "  "
            ]
          },
          "metadata": {},
          "execution_count": 11
        }
      ]
    },
    {
      "cell_type": "code",
      "source": [
        "df['treatment'].value_counts()"
      ],
      "metadata": {
        "colab": {
          "base_uri": "https://localhost:8080/"
        },
        "id": "LecbRJWWI7YQ",
        "outputId": "e1f4ad8e-d63a-47e3-fdc4-e691f2785e64"
      },
      "execution_count": 12,
      "outputs": [
        {
          "output_type": "execute_result",
          "data": {
            "text/plain": [
              "1    42694\n",
              "0    21306\n",
              "Name: treatment, dtype: int64"
            ]
          },
          "metadata": {},
          "execution_count": 12
        }
      ]
    },
    {
      "cell_type": "markdown",
      "source": [
        "**3. Сделать разбиение набора данных не тренировочную и тестовую**"
      ],
      "metadata": {
        "id": "QpeMF_x7KIBL"
      }
    },
    {
      "cell_type": "code",
      "source": [
        "#разделим данные на train/test\n",
        "indices_learn, indices_valid = train_test_split(df.index, test_size=0.2, random_state=42)"
      ],
      "metadata": {
        "id": "pAYZXeQjKNy3"
      },
      "execution_count": 14,
      "outputs": []
    },
    {
      "cell_type": "markdown",
      "source": [
        "**4. сделать feature engineering на ваше усмотрение (допускается свобода выбора методов)**"
      ],
      "metadata": {
        "id": "FiXdEKlZLDRx"
      }
    },
    {
      "cell_type": "code",
      "source": [
        "df['recency'].value_counts()"
      ],
      "metadata": {
        "colab": {
          "base_uri": "https://localhost:8080/"
        },
        "id": "U7gYsKGWLEgG",
        "outputId": "18a1146f-8830-405d-d7ae-bf4761b49b1b"
      },
      "execution_count": 15,
      "outputs": [
        {
          "output_type": "execute_result",
          "data": {
            "text/plain": [
              "1     8952\n",
              "10    7565\n",
              "2     7537\n",
              "9     6441\n",
              "3     5904\n",
              "4     5077\n",
              "6     4605\n",
              "5     4510\n",
              "7     4078\n",
              "11    3504\n",
              "8     3495\n",
              "12    2332\n",
              "Name: recency, dtype: int64"
            ]
          },
          "metadata": {},
          "execution_count": 15
        }
      ]
    },
    {
      "cell_type": "code",
      "source": [
        "df['history'].value_counts()"
      ],
      "metadata": {
        "colab": {
          "base_uri": "https://localhost:8080/"
        },
        "id": "kjLI-gtuL3Bl",
        "outputId": "b1c7ca98-398c-407b-ed55-f750d534ad51"
      },
      "execution_count": 16,
      "outputs": [
        {
          "output_type": "execute_result",
          "data": {
            "text/plain": [
              "29.99      7947\n",
              "53.79         9\n",
              "81.20         9\n",
              "33.18         8\n",
              "44.14         8\n",
              "           ... \n",
              "433.13        1\n",
              "196.43        1\n",
              "1108.21       1\n",
              "1025.31       1\n",
              "552.94        1\n",
              "Name: history, Length: 34833, dtype: int64"
            ]
          },
          "metadata": {},
          "execution_count": 16
        }
      ]
    },
    {
      "cell_type": "code",
      "source": [
        "df['used_discount'].value_counts()"
      ],
      "metadata": {
        "colab": {
          "base_uri": "https://localhost:8080/"
        },
        "id": "4B9ugAT_L5Ve",
        "outputId": "9be65d17-cd22-48f5-ec3a-f8371dda244d"
      },
      "execution_count": 17,
      "outputs": [
        {
          "output_type": "execute_result",
          "data": {
            "text/plain": [
              "1    35266\n",
              "0    28734\n",
              "Name: used_discount, dtype: int64"
            ]
          },
          "metadata": {},
          "execution_count": 17
        }
      ]
    },
    {
      "cell_type": "code",
      "source": [
        "df['used_bogo'].value_counts()"
      ],
      "metadata": {
        "colab": {
          "base_uri": "https://localhost:8080/"
        },
        "id": "mD3gAjBOL7Xk",
        "outputId": "295e60c8-490b-4544-dfb3-f81f87e4eafd"
      },
      "execution_count": 18,
      "outputs": [
        {
          "output_type": "execute_result",
          "data": {
            "text/plain": [
              "1    35182\n",
              "0    28818\n",
              "Name: used_bogo, dtype: int64"
            ]
          },
          "metadata": {},
          "execution_count": 18
        }
      ]
    },
    {
      "cell_type": "code",
      "source": [
        "df['zip_code'].value_counts()"
      ],
      "metadata": {
        "colab": {
          "base_uri": "https://localhost:8080/"
        },
        "id": "RK_EwuARL9wN",
        "outputId": "d4271988-f692-45bd-d456-e6e26f8fb890"
      },
      "execution_count": 19,
      "outputs": [
        {
          "output_type": "execute_result",
          "data": {
            "text/plain": [
              "Surburban    28776\n",
              "Urban        25661\n",
              "Rural         9563\n",
              "Name: zip_code, dtype: int64"
            ]
          },
          "metadata": {},
          "execution_count": 19
        }
      ]
    },
    {
      "cell_type": "code",
      "source": [
        "df['is_referral'].value_counts()"
      ],
      "metadata": {
        "colab": {
          "base_uri": "https://localhost:8080/"
        },
        "id": "feL22Ip3MAYw",
        "outputId": "c3b6cd83-e68c-410f-cdeb-70f29a2cbb99"
      },
      "execution_count": 20,
      "outputs": [
        {
          "output_type": "execute_result",
          "data": {
            "text/plain": [
              "1    32144\n",
              "0    31856\n",
              "Name: is_referral, dtype: int64"
            ]
          },
          "metadata": {},
          "execution_count": 20
        }
      ]
    },
    {
      "cell_type": "code",
      "source": [
        "df['channel'].value_counts()"
      ],
      "metadata": {
        "colab": {
          "base_uri": "https://localhost:8080/"
        },
        "id": "HbSMfrYmMDJz",
        "outputId": "dd9814a3-bd1c-4eb5-9b76-874dc45dd3d0"
      },
      "execution_count": 22,
      "outputs": [
        {
          "output_type": "execute_result",
          "data": {
            "text/plain": [
              "Web             28217\n",
              "Phone           28021\n",
              "Multichannel     7762\n",
              "Name: channel, dtype: int64"
            ]
          },
          "metadata": {},
          "execution_count": 22
        }
      ]
    },
    {
      "cell_type": "code",
      "source": [
        "df['treatment'].value_counts()"
      ],
      "metadata": {
        "colab": {
          "base_uri": "https://localhost:8080/"
        },
        "id": "W-0Gp35PMGL_",
        "outputId": "6f1f34de-80e6-4e7d-822e-6dcc9ea4a380"
      },
      "execution_count": 24,
      "outputs": [
        {
          "output_type": "execute_result",
          "data": {
            "text/plain": [
              "1    42694\n",
              "0    21306\n",
              "Name: treatment, dtype: int64"
            ]
          },
          "metadata": {},
          "execution_count": 24
        }
      ]
    },
    {
      "cell_type": "code",
      "source": [
        "df['target'].value_counts()"
      ],
      "metadata": {
        "colab": {
          "base_uri": "https://localhost:8080/"
        },
        "id": "D3SOawhMMKTO",
        "outputId": "4fc78683-5ea5-4a18-fe69-ff7a5f98cf55"
      },
      "execution_count": 25,
      "outputs": [
        {
          "output_type": "execute_result",
          "data": {
            "text/plain": [
              "0    54606\n",
              "1     9394\n",
              "Name: target, dtype: int64"
            ]
          },
          "metadata": {},
          "execution_count": 25
        }
      ]
    },
    {
      "cell_type": "code",
      "source": [
        "cat_columns = ['zip_code', 'channel']\n",
        "feature_num_names = ['recency', 'history']"
      ],
      "metadata": {
        "id": "MVVTYie6MLiZ"
      },
      "execution_count": 26,
      "outputs": []
    },
    {
      "cell_type": "code",
      "source": [
        "one_hot = pd.get_dummies(df[cat_columns])\n",
        "df = df.drop(cat_columns, axis=1)\n",
        "df = df.join(one_hot)"
      ],
      "metadata": {
        "id": "PEFXlnFMMSVS"
      },
      "execution_count": 27,
      "outputs": []
    },
    {
      "cell_type": "code",
      "source": [
        "df['treatment'] = df['treatment'].astype('int64').fillna(0)"
      ],
      "metadata": {
        "id": "mHrjFPFbMVCC"
      },
      "execution_count": 28,
      "outputs": []
    },
    {
      "cell_type": "code",
      "source": [
        "scaler = StandardScaler()\n",
        "\n",
        "df_norm = df.copy()\n",
        "df[feature_num_names] = scaler.fit_transform(df_norm[feature_num_names])"
      ],
      "metadata": {
        "id": "jzB1bfqqMXvZ"
      },
      "execution_count": 29,
      "outputs": []
    },
    {
      "cell_type": "code",
      "source": [
        "df.head()"
      ],
      "metadata": {
        "colab": {
          "base_uri": "https://localhost:8080/",
          "height": 206
        },
        "id": "SXGVCW18MaxY",
        "outputId": "1c8f1105-3efe-4426-c307-62e54a3f4138"
      },
      "execution_count": 30,
      "outputs": [
        {
          "output_type": "execute_result",
          "data": {
            "text/plain": [
              "    recency   history  used_discount  used_bogo  is_referral  treatment  \\\n",
              "0  1.207751 -0.389003              1          0            0          1   \n",
              "1  0.067359  0.339614              1          1            1          0   \n",
              "2  0.352457 -0.239836              0          1            1          1   \n",
              "3  0.922653  1.693278              1          0            1          1   \n",
              "4 -1.073034 -0.768068              1          0            0          1   \n",
              "\n",
              "   target  zip_code_Rural  zip_code_Surburban  zip_code_Urban  \\\n",
              "0       0               0                   1               0   \n",
              "1       0               1                   0               0   \n",
              "2       0               0                   1               0   \n",
              "3       0               1                   0               0   \n",
              "4       0               0                   0               1   \n",
              "\n",
              "   channel_Multichannel  channel_Phone  channel_Web  \n",
              "0                     0              1            0  \n",
              "1                     0              0            1  \n",
              "2                     0              0            1  \n",
              "3                     0              0            1  \n",
              "4                     0              0            1  "
            ],
            "text/html": [
              "\n",
              "  <div id=\"df-5ee2963f-6e25-4cac-ab55-903d29332469\">\n",
              "    <div class=\"colab-df-container\">\n",
              "      <div>\n",
              "<style scoped>\n",
              "    .dataframe tbody tr th:only-of-type {\n",
              "        vertical-align: middle;\n",
              "    }\n",
              "\n",
              "    .dataframe tbody tr th {\n",
              "        vertical-align: top;\n",
              "    }\n",
              "\n",
              "    .dataframe thead th {\n",
              "        text-align: right;\n",
              "    }\n",
              "</style>\n",
              "<table border=\"1\" class=\"dataframe\">\n",
              "  <thead>\n",
              "    <tr style=\"text-align: right;\">\n",
              "      <th></th>\n",
              "      <th>recency</th>\n",
              "      <th>history</th>\n",
              "      <th>used_discount</th>\n",
              "      <th>used_bogo</th>\n",
              "      <th>is_referral</th>\n",
              "      <th>treatment</th>\n",
              "      <th>target</th>\n",
              "      <th>zip_code_Rural</th>\n",
              "      <th>zip_code_Surburban</th>\n",
              "      <th>zip_code_Urban</th>\n",
              "      <th>channel_Multichannel</th>\n",
              "      <th>channel_Phone</th>\n",
              "      <th>channel_Web</th>\n",
              "    </tr>\n",
              "  </thead>\n",
              "  <tbody>\n",
              "    <tr>\n",
              "      <th>0</th>\n",
              "      <td>1.207751</td>\n",
              "      <td>-0.389003</td>\n",
              "      <td>1</td>\n",
              "      <td>0</td>\n",
              "      <td>0</td>\n",
              "      <td>1</td>\n",
              "      <td>0</td>\n",
              "      <td>0</td>\n",
              "      <td>1</td>\n",
              "      <td>0</td>\n",
              "      <td>0</td>\n",
              "      <td>1</td>\n",
              "      <td>0</td>\n",
              "    </tr>\n",
              "    <tr>\n",
              "      <th>1</th>\n",
              "      <td>0.067359</td>\n",
              "      <td>0.339614</td>\n",
              "      <td>1</td>\n",
              "      <td>1</td>\n",
              "      <td>1</td>\n",
              "      <td>0</td>\n",
              "      <td>0</td>\n",
              "      <td>1</td>\n",
              "      <td>0</td>\n",
              "      <td>0</td>\n",
              "      <td>0</td>\n",
              "      <td>0</td>\n",
              "      <td>1</td>\n",
              "    </tr>\n",
              "    <tr>\n",
              "      <th>2</th>\n",
              "      <td>0.352457</td>\n",
              "      <td>-0.239836</td>\n",
              "      <td>0</td>\n",
              "      <td>1</td>\n",
              "      <td>1</td>\n",
              "      <td>1</td>\n",
              "      <td>0</td>\n",
              "      <td>0</td>\n",
              "      <td>1</td>\n",
              "      <td>0</td>\n",
              "      <td>0</td>\n",
              "      <td>0</td>\n",
              "      <td>1</td>\n",
              "    </tr>\n",
              "    <tr>\n",
              "      <th>3</th>\n",
              "      <td>0.922653</td>\n",
              "      <td>1.693278</td>\n",
              "      <td>1</td>\n",
              "      <td>0</td>\n",
              "      <td>1</td>\n",
              "      <td>1</td>\n",
              "      <td>0</td>\n",
              "      <td>1</td>\n",
              "      <td>0</td>\n",
              "      <td>0</td>\n",
              "      <td>0</td>\n",
              "      <td>0</td>\n",
              "      <td>1</td>\n",
              "    </tr>\n",
              "    <tr>\n",
              "      <th>4</th>\n",
              "      <td>-1.073034</td>\n",
              "      <td>-0.768068</td>\n",
              "      <td>1</td>\n",
              "      <td>0</td>\n",
              "      <td>0</td>\n",
              "      <td>1</td>\n",
              "      <td>0</td>\n",
              "      <td>0</td>\n",
              "      <td>0</td>\n",
              "      <td>1</td>\n",
              "      <td>0</td>\n",
              "      <td>0</td>\n",
              "      <td>1</td>\n",
              "    </tr>\n",
              "  </tbody>\n",
              "</table>\n",
              "</div>\n",
              "      <button class=\"colab-df-convert\" onclick=\"convertToInteractive('df-5ee2963f-6e25-4cac-ab55-903d29332469')\"\n",
              "              title=\"Convert this dataframe to an interactive table.\"\n",
              "              style=\"display:none;\">\n",
              "        \n",
              "  <svg xmlns=\"http://www.w3.org/2000/svg\" height=\"24px\"viewBox=\"0 0 24 24\"\n",
              "       width=\"24px\">\n",
              "    <path d=\"M0 0h24v24H0V0z\" fill=\"none\"/>\n",
              "    <path d=\"M18.56 5.44l.94 2.06.94-2.06 2.06-.94-2.06-.94-.94-2.06-.94 2.06-2.06.94zm-11 1L8.5 8.5l.94-2.06 2.06-.94-2.06-.94L8.5 2.5l-.94 2.06-2.06.94zm10 10l.94 2.06.94-2.06 2.06-.94-2.06-.94-.94-2.06-.94 2.06-2.06.94z\"/><path d=\"M17.41 7.96l-1.37-1.37c-.4-.4-.92-.59-1.43-.59-.52 0-1.04.2-1.43.59L10.3 9.45l-7.72 7.72c-.78.78-.78 2.05 0 2.83L4 21.41c.39.39.9.59 1.41.59.51 0 1.02-.2 1.41-.59l7.78-7.78 2.81-2.81c.8-.78.8-2.07 0-2.86zM5.41 20L4 18.59l7.72-7.72 1.47 1.35L5.41 20z\"/>\n",
              "  </svg>\n",
              "      </button>\n",
              "      \n",
              "  <style>\n",
              "    .colab-df-container {\n",
              "      display:flex;\n",
              "      flex-wrap:wrap;\n",
              "      gap: 12px;\n",
              "    }\n",
              "\n",
              "    .colab-df-convert {\n",
              "      background-color: #E8F0FE;\n",
              "      border: none;\n",
              "      border-radius: 50%;\n",
              "      cursor: pointer;\n",
              "      display: none;\n",
              "      fill: #1967D2;\n",
              "      height: 32px;\n",
              "      padding: 0 0 0 0;\n",
              "      width: 32px;\n",
              "    }\n",
              "\n",
              "    .colab-df-convert:hover {\n",
              "      background-color: #E2EBFA;\n",
              "      box-shadow: 0px 1px 2px rgba(60, 64, 67, 0.3), 0px 1px 3px 1px rgba(60, 64, 67, 0.15);\n",
              "      fill: #174EA6;\n",
              "    }\n",
              "\n",
              "    [theme=dark] .colab-df-convert {\n",
              "      background-color: #3B4455;\n",
              "      fill: #D2E3FC;\n",
              "    }\n",
              "\n",
              "    [theme=dark] .colab-df-convert:hover {\n",
              "      background-color: #434B5C;\n",
              "      box-shadow: 0px 1px 3px 1px rgba(0, 0, 0, 0.15);\n",
              "      filter: drop-shadow(0px 1px 2px rgba(0, 0, 0, 0.3));\n",
              "      fill: #FFFFFF;\n",
              "    }\n",
              "  </style>\n",
              "\n",
              "      <script>\n",
              "        const buttonEl =\n",
              "          document.querySelector('#df-5ee2963f-6e25-4cac-ab55-903d29332469 button.colab-df-convert');\n",
              "        buttonEl.style.display =\n",
              "          google.colab.kernel.accessAllowed ? 'block' : 'none';\n",
              "\n",
              "        async function convertToInteractive(key) {\n",
              "          const element = document.querySelector('#df-5ee2963f-6e25-4cac-ab55-903d29332469');\n",
              "          const dataTable =\n",
              "            await google.colab.kernel.invokeFunction('convertToInteractive',\n",
              "                                                     [key], {});\n",
              "          if (!dataTable) return;\n",
              "\n",
              "          const docLinkHtml = 'Like what you see? Visit the ' +\n",
              "            '<a target=\"_blank\" href=https://colab.research.google.com/notebooks/data_table.ipynb>data table notebook</a>'\n",
              "            + ' to learn more about interactive tables.';\n",
              "          element.innerHTML = '';\n",
              "          dataTable['output_type'] = 'display_data';\n",
              "          await google.colab.output.renderOutput(dataTable, element);\n",
              "          const docLink = document.createElement('div');\n",
              "          docLink.innerHTML = docLinkHtml;\n",
              "          element.appendChild(docLink);\n",
              "        }\n",
              "      </script>\n",
              "    </div>\n",
              "  </div>\n",
              "  "
            ]
          },
          "metadata": {},
          "execution_count": 30
        }
      ]
    },
    {
      "cell_type": "code",
      "source": [
        "df.info()"
      ],
      "metadata": {
        "colab": {
          "base_uri": "https://localhost:8080/"
        },
        "id": "WJci7unQMeo3",
        "outputId": "b1d76883-67df-488e-a4ed-075aa3f78c8a"
      },
      "execution_count": 31,
      "outputs": [
        {
          "output_type": "stream",
          "name": "stdout",
          "text": [
            "<class 'pandas.core.frame.DataFrame'>\n",
            "RangeIndex: 64000 entries, 0 to 63999\n",
            "Data columns (total 13 columns):\n",
            " #   Column                Non-Null Count  Dtype  \n",
            "---  ------                --------------  -----  \n",
            " 0   recency               64000 non-null  float64\n",
            " 1   history               64000 non-null  float64\n",
            " 2   used_discount         64000 non-null  int64  \n",
            " 3   used_bogo             64000 non-null  int64  \n",
            " 4   is_referral           64000 non-null  int64  \n",
            " 5   treatment             64000 non-null  int64  \n",
            " 6   target                64000 non-null  int64  \n",
            " 7   zip_code_Rural        64000 non-null  uint8  \n",
            " 8   zip_code_Surburban    64000 non-null  uint8  \n",
            " 9   zip_code_Urban        64000 non-null  uint8  \n",
            " 10  channel_Multichannel  64000 non-null  uint8  \n",
            " 11  channel_Phone         64000 non-null  uint8  \n",
            " 12  channel_Web           64000 non-null  uint8  \n",
            "dtypes: float64(2), int64(5), uint8(6)\n",
            "memory usage: 3.8 MB\n"
          ]
        }
      ]
    },
    {
      "cell_type": "markdown",
      "source": [
        "**5. Провести uplift-моделирование 3 способами: одна модель с признаком коммуникации (S learner), модель с трансформацией таргета (трансформация классов п. 2. 1) и вариант с двумя независимыми моделями**"
      ],
      "metadata": {
        "id": "9MKK8iU1M3A2"
      }
    },
    {
      "cell_type": "code",
      "source": [
        "X_train = df.loc[indices_learn, :].drop([\"treatment\", \"target\"] , axis=1)\n",
        "y_train = df.loc[indices_learn, 'target']\n",
        "treat_train = df.loc[indices_learn, 'treatment']\n",
        "\n",
        "X_val = df.loc[indices_valid, :].drop([\"treatment\", \"target\"] , axis=1)\n",
        "y_val = df.loc[indices_valid, 'target']\n",
        "treat_val = df.loc[indices_valid, 'treatment']\n",
        "\n",
        "models_results = {\n",
        "    'approach': [],\n",
        "    'uplift@30%': [],\n",
        "    'uplift@20%': [],\n",
        "    'uplift@10%': []\n",
        "}"
      ],
      "metadata": {
        "id": "repXUKKqM5AR"
      },
      "execution_count": 32,
      "outputs": []
    },
    {
      "cell_type": "code",
      "source": [
        "X_train.head()"
      ],
      "metadata": {
        "colab": {
          "base_uri": "https://localhost:8080/",
          "height": 206
        },
        "id": "-zbcZaHpNDBQ",
        "outputId": "cdeabc21-96cc-4272-d7c4-15fcc6437502"
      },
      "execution_count": 33,
      "outputs": [
        {
          "output_type": "execute_result",
          "data": {
            "text/plain": [
              "        recency   history  used_discount  used_bogo  is_referral  \\\n",
              "43820 -0.502837 -0.051124              0          1            0   \n",
              "36500  1.492850 -0.435186              0          1            1   \n",
              "38039  0.922653 -0.827992              0          1            0   \n",
              "1954  -1.073034 -0.224455              0          1            1   \n",
              "28361  0.922653 -0.568502              1          0            0   \n",
              "\n",
              "       zip_code_Rural  zip_code_Surburban  zip_code_Urban  \\\n",
              "43820               0                   1               0   \n",
              "36500               0                   1               0   \n",
              "38039               1                   0               0   \n",
              "1954                0                   0               1   \n",
              "28361               0                   1               0   \n",
              "\n",
              "       channel_Multichannel  channel_Phone  channel_Web  \n",
              "43820                     0              0            1  \n",
              "36500                     0              0            1  \n",
              "38039                     0              0            1  \n",
              "1954                      0              0            1  \n",
              "28361                     0              1            0  "
            ],
            "text/html": [
              "\n",
              "  <div id=\"df-7072d270-b8f7-41eb-b42a-bfc2dc053136\">\n",
              "    <div class=\"colab-df-container\">\n",
              "      <div>\n",
              "<style scoped>\n",
              "    .dataframe tbody tr th:only-of-type {\n",
              "        vertical-align: middle;\n",
              "    }\n",
              "\n",
              "    .dataframe tbody tr th {\n",
              "        vertical-align: top;\n",
              "    }\n",
              "\n",
              "    .dataframe thead th {\n",
              "        text-align: right;\n",
              "    }\n",
              "</style>\n",
              "<table border=\"1\" class=\"dataframe\">\n",
              "  <thead>\n",
              "    <tr style=\"text-align: right;\">\n",
              "      <th></th>\n",
              "      <th>recency</th>\n",
              "      <th>history</th>\n",
              "      <th>used_discount</th>\n",
              "      <th>used_bogo</th>\n",
              "      <th>is_referral</th>\n",
              "      <th>zip_code_Rural</th>\n",
              "      <th>zip_code_Surburban</th>\n",
              "      <th>zip_code_Urban</th>\n",
              "      <th>channel_Multichannel</th>\n",
              "      <th>channel_Phone</th>\n",
              "      <th>channel_Web</th>\n",
              "    </tr>\n",
              "  </thead>\n",
              "  <tbody>\n",
              "    <tr>\n",
              "      <th>43820</th>\n",
              "      <td>-0.502837</td>\n",
              "      <td>-0.051124</td>\n",
              "      <td>0</td>\n",
              "      <td>1</td>\n",
              "      <td>0</td>\n",
              "      <td>0</td>\n",
              "      <td>1</td>\n",
              "      <td>0</td>\n",
              "      <td>0</td>\n",
              "      <td>0</td>\n",
              "      <td>1</td>\n",
              "    </tr>\n",
              "    <tr>\n",
              "      <th>36500</th>\n",
              "      <td>1.492850</td>\n",
              "      <td>-0.435186</td>\n",
              "      <td>0</td>\n",
              "      <td>1</td>\n",
              "      <td>1</td>\n",
              "      <td>0</td>\n",
              "      <td>1</td>\n",
              "      <td>0</td>\n",
              "      <td>0</td>\n",
              "      <td>0</td>\n",
              "      <td>1</td>\n",
              "    </tr>\n",
              "    <tr>\n",
              "      <th>38039</th>\n",
              "      <td>0.922653</td>\n",
              "      <td>-0.827992</td>\n",
              "      <td>0</td>\n",
              "      <td>1</td>\n",
              "      <td>0</td>\n",
              "      <td>1</td>\n",
              "      <td>0</td>\n",
              "      <td>0</td>\n",
              "      <td>0</td>\n",
              "      <td>0</td>\n",
              "      <td>1</td>\n",
              "    </tr>\n",
              "    <tr>\n",
              "      <th>1954</th>\n",
              "      <td>-1.073034</td>\n",
              "      <td>-0.224455</td>\n",
              "      <td>0</td>\n",
              "      <td>1</td>\n",
              "      <td>1</td>\n",
              "      <td>0</td>\n",
              "      <td>0</td>\n",
              "      <td>1</td>\n",
              "      <td>0</td>\n",
              "      <td>0</td>\n",
              "      <td>1</td>\n",
              "    </tr>\n",
              "    <tr>\n",
              "      <th>28361</th>\n",
              "      <td>0.922653</td>\n",
              "      <td>-0.568502</td>\n",
              "      <td>1</td>\n",
              "      <td>0</td>\n",
              "      <td>0</td>\n",
              "      <td>0</td>\n",
              "      <td>1</td>\n",
              "      <td>0</td>\n",
              "      <td>0</td>\n",
              "      <td>1</td>\n",
              "      <td>0</td>\n",
              "    </tr>\n",
              "  </tbody>\n",
              "</table>\n",
              "</div>\n",
              "      <button class=\"colab-df-convert\" onclick=\"convertToInteractive('df-7072d270-b8f7-41eb-b42a-bfc2dc053136')\"\n",
              "              title=\"Convert this dataframe to an interactive table.\"\n",
              "              style=\"display:none;\">\n",
              "        \n",
              "  <svg xmlns=\"http://www.w3.org/2000/svg\" height=\"24px\"viewBox=\"0 0 24 24\"\n",
              "       width=\"24px\">\n",
              "    <path d=\"M0 0h24v24H0V0z\" fill=\"none\"/>\n",
              "    <path d=\"M18.56 5.44l.94 2.06.94-2.06 2.06-.94-2.06-.94-.94-2.06-.94 2.06-2.06.94zm-11 1L8.5 8.5l.94-2.06 2.06-.94-2.06-.94L8.5 2.5l-.94 2.06-2.06.94zm10 10l.94 2.06.94-2.06 2.06-.94-2.06-.94-.94-2.06-.94 2.06-2.06.94z\"/><path d=\"M17.41 7.96l-1.37-1.37c-.4-.4-.92-.59-1.43-.59-.52 0-1.04.2-1.43.59L10.3 9.45l-7.72 7.72c-.78.78-.78 2.05 0 2.83L4 21.41c.39.39.9.59 1.41.59.51 0 1.02-.2 1.41-.59l7.78-7.78 2.81-2.81c.8-.78.8-2.07 0-2.86zM5.41 20L4 18.59l7.72-7.72 1.47 1.35L5.41 20z\"/>\n",
              "  </svg>\n",
              "      </button>\n",
              "      \n",
              "  <style>\n",
              "    .colab-df-container {\n",
              "      display:flex;\n",
              "      flex-wrap:wrap;\n",
              "      gap: 12px;\n",
              "    }\n",
              "\n",
              "    .colab-df-convert {\n",
              "      background-color: #E8F0FE;\n",
              "      border: none;\n",
              "      border-radius: 50%;\n",
              "      cursor: pointer;\n",
              "      display: none;\n",
              "      fill: #1967D2;\n",
              "      height: 32px;\n",
              "      padding: 0 0 0 0;\n",
              "      width: 32px;\n",
              "    }\n",
              "\n",
              "    .colab-df-convert:hover {\n",
              "      background-color: #E2EBFA;\n",
              "      box-shadow: 0px 1px 2px rgba(60, 64, 67, 0.3), 0px 1px 3px 1px rgba(60, 64, 67, 0.15);\n",
              "      fill: #174EA6;\n",
              "    }\n",
              "\n",
              "    [theme=dark] .colab-df-convert {\n",
              "      background-color: #3B4455;\n",
              "      fill: #D2E3FC;\n",
              "    }\n",
              "\n",
              "    [theme=dark] .colab-df-convert:hover {\n",
              "      background-color: #434B5C;\n",
              "      box-shadow: 0px 1px 3px 1px rgba(0, 0, 0, 0.15);\n",
              "      filter: drop-shadow(0px 1px 2px rgba(0, 0, 0, 0.3));\n",
              "      fill: #FFFFFF;\n",
              "    }\n",
              "  </style>\n",
              "\n",
              "      <script>\n",
              "        const buttonEl =\n",
              "          document.querySelector('#df-7072d270-b8f7-41eb-b42a-bfc2dc053136 button.colab-df-convert');\n",
              "        buttonEl.style.display =\n",
              "          google.colab.kernel.accessAllowed ? 'block' : 'none';\n",
              "\n",
              "        async function convertToInteractive(key) {\n",
              "          const element = document.querySelector('#df-7072d270-b8f7-41eb-b42a-bfc2dc053136');\n",
              "          const dataTable =\n",
              "            await google.colab.kernel.invokeFunction('convertToInteractive',\n",
              "                                                     [key], {});\n",
              "          if (!dataTable) return;\n",
              "\n",
              "          const docLinkHtml = 'Like what you see? Visit the ' +\n",
              "            '<a target=\"_blank\" href=https://colab.research.google.com/notebooks/data_table.ipynb>data table notebook</a>'\n",
              "            + ' to learn more about interactive tables.';\n",
              "          element.innerHTML = '';\n",
              "          dataTable['output_type'] = 'display_data';\n",
              "          await google.colab.output.renderOutput(dataTable, element);\n",
              "          const docLink = document.createElement('div');\n",
              "          docLink.innerHTML = docLinkHtml;\n",
              "          element.appendChild(docLink);\n",
              "        }\n",
              "      </script>\n",
              "    </div>\n",
              "  </div>\n",
              "  "
            ]
          },
          "metadata": {},
          "execution_count": 33
        }
      ]
    },
    {
      "cell_type": "markdown",
      "source": [
        "**Способ №1: модель с признаком коммуникации**"
      ],
      "metadata": {
        "id": "F8RdenWdNEnI"
      }
    },
    {
      "cell_type": "code",
      "source": [
        "sm = SoloModel(RandomForestClassifier(n_estimators=50, max_depth=3, random_state=42, n_jobs=-1))\n",
        "sm = sm.fit(X_train, y_train, treat_train)\n",
        "\n",
        "uplift_sm = sm.predict(X_val)\n",
        "\n",
        "sm_score_10 = uplift_at_k(y_true=y_val, uplift=uplift_sm, treatment=treat_val, strategy='by_group', k=0.1)\n",
        "sm_score_20 = uplift_at_k(y_true=y_val, uplift=uplift_sm, treatment=treat_val, strategy='by_group', k=0.2)\n",
        "sm_score_30 = uplift_at_k(y_true=y_val, uplift=uplift_sm, treatment=treat_val, strategy='by_group', k=0.3)\n",
        "\n",
        "models_results['approach'].append('SoloModel')\n",
        "models_results['uplift@10%'].append(sm_score_10)\n",
        "models_results['uplift@20%'].append(sm_score_20)\n",
        "models_results['uplift@30%'].append(sm_score_30)\n",
        "\n",
        "print(f'uplift@10%: {sm_score_10:.4f}')\n",
        "print(f'uplift@20%: {sm_score_20:.4f}')\n",
        "print(f'uplift@30%: {sm_score_30:.4f}')\n",
        "\n",
        "# Получим условные вероятности выполнения целевого действия при взаимодействии для каждого объекта\n",
        "sm_trmnt_preds = sm.trmnt_preds_\n",
        "# И условные вероятности выполнения целевого действия без взаимодействия для каждого объекта\n",
        "sm_ctrl_preds = sm.ctrl_preds_\n",
        "# Отрисуем распределения вероятностей и их разность (uplift)\n",
        "plot_uplift_preds(trmnt_preds=sm_trmnt_preds, ctrl_preds=sm_ctrl_preds);"
      ],
      "metadata": {
        "colab": {
          "base_uri": "https://localhost:8080/",
          "height": 499
        },
        "id": "mAVSDW2TNjCZ",
        "outputId": "615cc0bd-f3c5-4a63-bef1-b4e89ce9296e"
      },
      "execution_count": 34,
      "outputs": [
        {
          "output_type": "stream",
          "name": "stdout",
          "text": [
            "uplift@10%: 0.0695\n",
            "uplift@20%: 0.1048\n",
            "uplift@30%: 0.0919\n"
          ]
        },
        {
          "output_type": "display_data",
          "data": {
            "text/plain": [
              "<Figure size 1440x504 with 3 Axes>"
            ],
            "image/png": "[encoded data removed]"
          },
          "metadata": {}
        }
      ]
    },
    {
      "cell_type": "code",
      "source": [
        "sm_fi = pd.DataFrame({\n",
        "    'feature_name': sm.estimator.feature_names_in_,\n",
        "    'feature_score': sm.estimator.feature_importances_\n",
        "}).sort_values('feature_score', ascending=False).reset_index(drop=True)\n",
        "\n",
        "sm_fi"
      ],
      "metadata": {
        "colab": {
          "base_uri": "https://localhost:8080/",
          "height": 426
        },
        "id": "E7sL5eGfN_c9",
        "outputId": "f97ae2ef-a063-4587-e59a-13f3d4091ea0"
      },
      "execution_count": 35,
      "outputs": [
        {
          "output_type": "execute_result",
          "data": {
            "text/plain": [
              "            feature_name  feature_score\n",
              "0            is_referral       0.222197\n",
              "1                recency       0.217750\n",
              "2                history       0.215516\n",
              "3              treatment       0.181351\n",
              "4              used_bogo       0.051286\n",
              "5          channel_Phone       0.035183\n",
              "6         zip_code_Rural       0.034291\n",
              "7            channel_Web       0.022834\n",
              "8          used_discount       0.012467\n",
              "9   channel_Multichannel       0.003460\n",
              "10    zip_code_Surburban       0.001995\n",
              "11        zip_code_Urban       0.001669"
            ],
            "text/html": [
              "\n",
              "  <div id=\"df-fb1a34c4-f34c-4a84-a024-dd452baee8c0\">\n",
              "    <div class=\"colab-df-container\">\n",
              "      <div>\n",
              "<style scoped>\n",
              "    .dataframe tbody tr th:only-of-type {\n",
              "        vertical-align: middle;\n",
              "    }\n",
              "\n",
              "    .dataframe tbody tr th {\n",
              "        vertical-align: top;\n",
              "    }\n",
              "\n",
              "    .dataframe thead th {\n",
              "        text-align: right;\n",
              "    }\n",
              "</style>\n",
              "<table border=\"1\" class=\"dataframe\">\n",
              "  <thead>\n",
              "    <tr style=\"text-align: right;\">\n",
              "      <th></th>\n",
              "      <th>feature_name</th>\n",
              "      <th>feature_score</th>\n",
              "    </tr>\n",
              "  </thead>\n",
              "  <tbody>\n",
              "    <tr>\n",
              "      <th>0</th>\n",
              "      <td>is_referral</td>\n",
              "      <td>0.222197</td>\n",
              "    </tr>\n",
              "    <tr>\n",
              "      <th>1</th>\n",
              "      <td>recency</td>\n",
              "      <td>0.217750</td>\n",
              "    </tr>\n",
              "    <tr>\n",
              "      <th>2</th>\n",
              "      <td>history</td>\n",
              "      <td>0.215516</td>\n",
              "    </tr>\n",
              "    <tr>\n",
              "      <th>3</th>\n",
              "      <td>treatment</td>\n",
              "      <td>0.181351</td>\n",
              "    </tr>\n",
              "    <tr>\n",
              "      <th>4</th>\n",
              "      <td>used_bogo</td>\n",
              "      <td>0.051286</td>\n",
              "    </tr>\n",
              "    <tr>\n",
              "      <th>5</th>\n",
              "      <td>channel_Phone</td>\n",
              "      <td>0.035183</td>\n",
              "    </tr>\n",
              "    <tr>\n",
              "      <th>6</th>\n",
              "      <td>zip_code_Rural</td>\n",
              "      <td>0.034291</td>\n",
              "    </tr>\n",
              "    <tr>\n",
              "      <th>7</th>\n",
              "      <td>channel_Web</td>\n",
              "      <td>0.022834</td>\n",
              "    </tr>\n",
              "    <tr>\n",
              "      <th>8</th>\n",
              "      <td>used_discount</td>\n",
              "      <td>0.012467</td>\n",
              "    </tr>\n",
              "    <tr>\n",
              "      <th>9</th>\n",
              "      <td>channel_Multichannel</td>\n",
              "      <td>0.003460</td>\n",
              "    </tr>\n",
              "    <tr>\n",
              "      <th>10</th>\n",
              "      <td>zip_code_Surburban</td>\n",
              "      <td>0.001995</td>\n",
              "    </tr>\n",
              "    <tr>\n",
              "      <th>11</th>\n",
              "      <td>zip_code_Urban</td>\n",
              "      <td>0.001669</td>\n",
              "    </tr>\n",
              "  </tbody>\n",
              "</table>\n",
              "</div>\n",
              "      <button class=\"colab-df-convert\" onclick=\"convertToInteractive('df-fb1a34c4-f34c-4a84-a024-dd452baee8c0')\"\n",
              "              title=\"Convert this dataframe to an interactive table.\"\n",
              "              style=\"display:none;\">\n",
              "        \n",
              "  <svg xmlns=\"http://www.w3.org/2000/svg\" height=\"24px\"viewBox=\"0 0 24 24\"\n",
              "       width=\"24px\">\n",
              "    <path d=\"M0 0h24v24H0V0z\" fill=\"none\"/>\n",
              "    <path d=\"M18.56 5.44l.94 2.06.94-2.06 2.06-.94-2.06-.94-.94-2.06-.94 2.06-2.06.94zm-11 1L8.5 8.5l.94-2.06 2.06-.94-2.06-.94L8.5 2.5l-.94 2.06-2.06.94zm10 10l.94 2.06.94-2.06 2.06-.94-2.06-.94-.94-2.06-.94 2.06-2.06.94z\"/><path d=\"M17.41 7.96l-1.37-1.37c-.4-.4-.92-.59-1.43-.59-.52 0-1.04.2-1.43.59L10.3 9.45l-7.72 7.72c-.78.78-.78 2.05 0 2.83L4 21.41c.39.39.9.59 1.41.59.51 0 1.02-.2 1.41-.59l7.78-7.78 2.81-2.81c.8-.78.8-2.07 0-2.86zM5.41 20L4 18.59l7.72-7.72 1.47 1.35L5.41 20z\"/>\n",
              "  </svg>\n",
              "      </button>\n",
              "      \n",
              "  <style>\n",
              "    .colab-df-container {\n",
              "      display:flex;\n",
              "      flex-wrap:wrap;\n",
              "      gap: 12px;\n",
              "    }\n",
              "\n",
              "    .colab-df-convert {\n",
              "      background-color: #E8F0FE;\n",
              "      border: none;\n",
              "      border-radius: 50%;\n",
              "      cursor: pointer;\n",
              "      display: none;\n",
              "      fill: #1967D2;\n",
              "      height: 32px;\n",
              "      padding: 0 0 0 0;\n",
              "      width: 32px;\n",
              "    }\n",
              "\n",
              "    .colab-df-convert:hover {\n",
              "      background-color: #E2EBFA;\n",
              "      box-shadow: 0px 1px 2px rgba(60, 64, 67, 0.3), 0px 1px 3px 1px rgba(60, 64, 67, 0.15);\n",
              "      fill: #174EA6;\n",
              "    }\n",
              "\n",
              "    [theme=dark] .colab-df-convert {\n",
              "      background-color: #3B4455;\n",
              "      fill: #D2E3FC;\n",
              "    }\n",
              "\n",
              "    [theme=dark] .colab-df-convert:hover {\n",
              "      background-color: #434B5C;\n",
              "      box-shadow: 0px 1px 3px 1px rgba(0, 0, 0, 0.15);\n",
              "      filter: drop-shadow(0px 1px 2px rgba(0, 0, 0, 0.3));\n",
              "      fill: #FFFFFF;\n",
              "    }\n",
              "  </style>\n",
              "\n",
              "      <script>\n",
              "        const buttonEl =\n",
              "          document.querySelector('#df-fb1a34c4-f34c-4a84-a024-dd452baee8c0 button.colab-df-convert');\n",
              "        buttonEl.style.display =\n",
              "          google.colab.kernel.accessAllowed ? 'block' : 'none';\n",
              "\n",
              "        async function convertToInteractive(key) {\n",
              "          const element = document.querySelector('#df-fb1a34c4-f34c-4a84-a024-dd452baee8c0');\n",
              "          const dataTable =\n",
              "            await google.colab.kernel.invokeFunction('convertToInteractive',\n",
              "                                                     [key], {});\n",
              "          if (!dataTable) return;\n",
              "\n",
              "          const docLinkHtml = 'Like what you see? Visit the ' +\n",
              "            '<a target=\"_blank\" href=https://colab.research.google.com/notebooks/data_table.ipynb>data table notebook</a>'\n",
              "            + ' to learn more about interactive tables.';\n",
              "          element.innerHTML = '';\n",
              "          dataTable['output_type'] = 'display_data';\n",
              "          await google.colab.output.renderOutput(dataTable, element);\n",
              "          const docLink = document.createElement('div');\n",
              "          docLink.innerHTML = docLinkHtml;\n",
              "          element.appendChild(docLink);\n",
              "        }\n",
              "      </script>\n",
              "    </div>\n",
              "  </div>\n",
              "  "
            ]
          },
          "metadata": {},
          "execution_count": 35
        }
      ]
    },
    {
      "cell_type": "markdown",
      "source": [
        "**Способ №2: модель с трансформацией таргета**"
      ],
      "metadata": {
        "id": "QBQJQAfvOH7G"
      }
    },
    {
      "cell_type": "code",
      "source": [
        "ct = ClassTransformation(RandomForestClassifier(n_estimators=50, max_depth=3, random_state=42, n_jobs=-1))\n",
        "ct = ct.fit(X_train, y_train, treat_train)\n",
        "\n",
        "uplift_ct = ct.predict(X_val)\n",
        "\n",
        "ct_score_10 = uplift_at_k(y_true=y_val, uplift=uplift_ct, treatment=treat_val, strategy='by_group', k=0.1)\n",
        "ct_score_20 = uplift_at_k(y_true=y_val, uplift=uplift_ct, treatment=treat_val, strategy='by_group', k=0.2)\n",
        "ct_score_30 = uplift_at_k(y_true=y_val, uplift=uplift_ct, treatment=treat_val, strategy='by_group', k=0.3)\n",
        "\n",
        "models_results['approach'].append('ClassTransformation')\n",
        "models_results['uplift@30%'].append(ct_score_10)\n",
        "models_results['uplift@30%'].append(ct_score_20)\n",
        "models_results['uplift@30%'].append(ct_score_30)\n",
        "\n",
        "print(f'uplift@10%: {ct_score_10:.4f}')\n",
        "print(f'uplift@20%: {ct_score_20:.4f}')\n",
        "print(f'uplift@30%: {ct_score_30:.4f}')"
      ],
      "metadata": {
        "colab": {
          "base_uri": "https://localhost:8080/"
        },
        "id": "BjUiko9iOG37",
        "outputId": "5c05145f-7a7d-4907-891b-b95321eafd7c"
      },
      "execution_count": 36,
      "outputs": [
        {
          "output_type": "stream",
          "name": "stdout",
          "text": [
            "uplift@10%: 0.1369\n",
            "uplift@20%: 0.1157\n",
            "uplift@30%: 0.1023\n"
          ]
        }
      ]
    },
    {
      "cell_type": "markdown",
      "source": [
        "**Способ №3: две независимые моделями**"
      ],
      "metadata": {
        "id": "_9Km_Vx1OhI4"
      }
    },
    {
      "cell_type": "code",
      "source": [
        "tm = TwoModels(\n",
        "    estimator_trmnt=RandomForestClassifier(n_estimators=50, max_depth=3, random_state=42, n_jobs=-1),\n",
        "    estimator_ctrl=RandomForestClassifier(n_estimators=50, max_depth=3, random_state=42, n_jobs=-1),\n",
        "    method='vanilla'\n",
        ")\n",
        "\n",
        "tm = tm.fit(X_train, y_train, treat_train)\n",
        "\n",
        "uplift_tm = tm.predict(X_val)\n",
        "\n",
        "tm_score_10 = uplift_at_k(y_true=y_val, uplift=uplift_tm, treatment=treat_val, strategy='by_group', k=0.1)\n",
        "tm_score_20 = uplift_at_k(y_true=y_val, uplift=uplift_tm, treatment=treat_val, strategy='by_group', k=0.2)\n",
        "tm_score_30 = uplift_at_k(y_true=y_val, uplift=uplift_tm, treatment=treat_val, strategy='by_group', k=0.3)\n",
        "\n",
        "models_results['approach'].append('TwoModels')\n",
        "models_results['uplift@10%'].append(tm_score_10)\n",
        "models_results['uplift@20%'].append(tm_score_20)\n",
        "models_results['uplift@30%'].append(tm_score_30)\n",
        "\n",
        "print(f'uplift@10%: {tm_score_10:.4f}')\n",
        "print(f'uplift@20%: {tm_score_20:.4f}')\n",
        "print(f'uplift@30%: {tm_score_30:.4f}')\n",
        "\n",
        "plot_uplift_preds(trmnt_preds=tm.trmnt_preds_, ctrl_preds=tm.ctrl_preds_)"
      ],
      "metadata": {
        "colab": {
          "base_uri": "https://localhost:8080/",
          "height": 569
        },
        "id": "CNiB1xy5OiEq",
        "outputId": "7c39852a-3f2c-41d7-c90e-94877c063d89"
      },
      "execution_count": 37,
      "outputs": [
        {
          "output_type": "stream",
          "name": "stdout",
          "text": [
            "uplift@10%: 0.1247\n",
            "uplift@20%: 0.0959\n",
            "uplift@30%: 0.0940\n"
          ]
        },
        {
          "output_type": "execute_result",
          "data": {
            "text/plain": [
              "array([<matplotlib.axes._subplots.AxesSubplot object at 0x7f834f6e1f40>,\n",
              "       <matplotlib.axes._subplots.AxesSubplot object at 0x7f834f6d2d00>,\n",
              "       <matplotlib.axes._subplots.AxesSubplot object at 0x7f8350d16100>],\n",
              "      dtype=object)"
            ]
          },
          "metadata": {},
          "execution_count": 37
        },
        {
          "output_type": "display_data",
          "data": {
            "text/plain": [
              "<Figure size 1440x504 with 3 Axes>"
            ],
            "image/png": "[encoded data removed]"
          },
          "metadata": {}
        }
      ]
    },
    {
      "cell_type": "markdown",
      "source": [
        "**6. В конце вывести единую таблицу сравнения метрик uplift@10%, uplift@20% этих 3 моделей**"
      ],
      "metadata": {
        "id": "LVbc0UzCO9uk"
      }
    },
    {
      "cell_type": "code",
      "source": [
        "united_table = pd.DataFrame({\n",
        "    'approach':['SoloModel', 'ClassTransformation', 'TwoModels'],\n",
        "    'uplift@10%': [sm_score_10, ct_score_10, tm_score_10],\n",
        "    'uplift@20%': [sm_score_20, ct_score_20, tm_score_20],\n",
        "})\n",
        "\n",
        "united_table"
      ],
      "metadata": {
        "colab": {
          "base_uri": "https://localhost:8080/",
          "height": 143
        },
        "id": "y7ewMuEwPsZq",
        "outputId": "fc446763-3119-4faa-83b0-bfa8dcf97a58"
      },
      "execution_count": 39,
      "outputs": [
        {
          "output_type": "execute_result",
          "data": {
            "text/plain": [
              "              approach  uplift@10%  uplift@20%\n",
              "0            SoloModel    0.069486    0.104799\n",
              "1  ClassTransformation    0.136896    0.115658\n",
              "2            TwoModels    0.124692    0.095939"
            ],
            "text/html": [
              "\n",
              "  <div id=\"df-bea7bc7c-41a5-45a2-97ba-17285fa42c14\">\n",
              "    <div class=\"colab-df-container\">\n",
              "      <div>\n",
              "<style scoped>\n",
              "    .dataframe tbody tr th:only-of-type {\n",
              "        vertical-align: middle;\n",
              "    }\n",
              "\n",
              "    .dataframe tbody tr th {\n",
              "        vertical-align: top;\n",
              "    }\n",
              "\n",
              "    .dataframe thead th {\n",
              "        text-align: right;\n",
              "    }\n",
              "</style>\n",
              "<table border=\"1\" class=\"dataframe\">\n",
              "  <thead>\n",
              "    <tr style=\"text-align: right;\">\n",
              "      <th></th>\n",
              "      <th>approach</th>\n",
              "      <th>uplift@10%</th>\n",
              "      <th>uplift@20%</th>\n",
              "    </tr>\n",
              "  </thead>\n",
              "  <tbody>\n",
              "    <tr>\n",
              "      <th>0</th>\n",
              "      <td>SoloModel</td>\n",
              "      <td>0.069486</td>\n",
              "      <td>0.104799</td>\n",
              "    </tr>\n",
              "    <tr>\n",
              "      <th>1</th>\n",
              "      <td>ClassTransformation</td>\n",
              "      <td>0.136896</td>\n",
              "      <td>0.115658</td>\n",
              "    </tr>\n",
              "    <tr>\n",
              "      <th>2</th>\n",
              "      <td>TwoModels</td>\n",
              "      <td>0.124692</td>\n",
              "      <td>0.095939</td>\n",
              "    </tr>\n",
              "  </tbody>\n",
              "</table>\n",
              "</div>\n",
              "      <button class=\"colab-df-convert\" onclick=\"convertToInteractive('df-bea7bc7c-41a5-45a2-97ba-17285fa42c14')\"\n",
              "              title=\"Convert this dataframe to an interactive table.\"\n",
              "              style=\"display:none;\">\n",
              "        \n",
              "  <svg xmlns=\"http://www.w3.org/2000/svg\" height=\"24px\"viewBox=\"0 0 24 24\"\n",
              "       width=\"24px\">\n",
              "    <path d=\"M0 0h24v24H0V0z\" fill=\"none\"/>\n",
              "    <path d=\"M18.56 5.44l.94 2.06.94-2.06 2.06-.94-2.06-.94-.94-2.06-.94 2.06-2.06.94zm-11 1L8.5 8.5l.94-2.06 2.06-.94-2.06-.94L8.5 2.5l-.94 2.06-2.06.94zm10 10l.94 2.06.94-2.06 2.06-.94-2.06-.94-.94-2.06-.94 2.06-2.06.94z\"/><path d=\"M17.41 7.96l-1.37-1.37c-.4-.4-.92-.59-1.43-.59-.52 0-1.04.2-1.43.59L10.3 9.45l-7.72 7.72c-.78.78-.78 2.05 0 2.83L4 21.41c.39.39.9.59 1.41.59.51 0 1.02-.2 1.41-.59l7.78-7.78 2.81-2.81c.8-.78.8-2.07 0-2.86zM5.41 20L4 18.59l7.72-7.72 1.47 1.35L5.41 20z\"/>\n",
              "  </svg>\n",
              "      </button>\n",
              "      \n",
              "  <style>\n",
              "    .colab-df-container {\n",
              "      display:flex;\n",
              "      flex-wrap:wrap;\n",
              "      gap: 12px;\n",
              "    }\n",
              "\n",
              "    .colab-df-convert {\n",
              "      background-color: #E8F0FE;\n",
              "      border: none;\n",
              "      border-radius: 50%;\n",
              "      cursor: pointer;\n",
              "      display: none;\n",
              "      fill: #1967D2;\n",
              "      height: 32px;\n",
              "      padding: 0 0 0 0;\n",
              "      width: 32px;\n",
              "    }\n",
              "\n",
              "    .colab-df-convert:hover {\n",
              "      background-color: #E2EBFA;\n",
              "      box-shadow: 0px 1px 2px rgba(60, 64, 67, 0.3), 0px 1px 3px 1px rgba(60, 64, 67, 0.15);\n",
              "      fill: #174EA6;\n",
              "    }\n",
              "\n",
              "    [theme=dark] .colab-df-convert {\n",
              "      background-color: #3B4455;\n",
              "      fill: #D2E3FC;\n",
              "    }\n",
              "\n",
              "    [theme=dark] .colab-df-convert:hover {\n",
              "      background-color: #434B5C;\n",
              "      box-shadow: 0px 1px 3px 1px rgba(0, 0, 0, 0.15);\n",
              "      filter: drop-shadow(0px 1px 2px rgba(0, 0, 0, 0.3));\n",
              "      fill: #FFFFFF;\n",
              "    }\n",
              "  </style>\n",
              "\n",
              "      <script>\n",
              "        const buttonEl =\n",
              "          document.querySelector('#df-bea7bc7c-41a5-45a2-97ba-17285fa42c14 button.colab-df-convert');\n",
              "        buttonEl.style.display =\n",
              "          google.colab.kernel.accessAllowed ? 'block' : 'none';\n",
              "\n",
              "        async function convertToInteractive(key) {\n",
              "          const element = document.querySelector('#df-bea7bc7c-41a5-45a2-97ba-17285fa42c14');\n",
              "          const dataTable =\n",
              "            await google.colab.kernel.invokeFunction('convertToInteractive',\n",
              "                                                     [key], {});\n",
              "          if (!dataTable) return;\n",
              "\n",
              "          const docLinkHtml = 'Like what you see? Visit the ' +\n",
              "            '<a target=\"_blank\" href=https://colab.research.google.com/notebooks/data_table.ipynb>data table notebook</a>'\n",
              "            + ' to learn more about interactive tables.';\n",
              "          element.innerHTML = '';\n",
              "          dataTable['output_type'] = 'display_data';\n",
              "          await google.colab.output.renderOutput(dataTable, element);\n",
              "          const docLink = document.createElement('div');\n",
              "          docLink.innerHTML = docLinkHtml;\n",
              "          element.appendChild(docLink);\n",
              "        }\n",
              "      </script>\n",
              "    </div>\n",
              "  </div>\n",
              "  "
            ]
          },
          "metadata": {},
          "execution_count": 39
        }
      ]
    },
    {
      "cell_type": "markdown",
      "source": [
        "**7. Построить модель UpliftTreeClassifier и попытаться описать словами полученное дерево**"
      ],
      "metadata": {
        "id": "K8VzfNgoQIka"
      }
    },
    {
      "cell_type": "code",
      "source": [
        "features = [col for col in X_train]"
      ],
      "metadata": {
        "id": "4mX2i6g2QJr6"
      },
      "execution_count": 41,
      "outputs": []
    },
    {
      "cell_type": "code",
      "source": [
        "!git clone https://github.com/uber/causalml\n",
        "%cd causalml\n",
        "!pip install -r requirements.txt\n",
        "!python setup.py build_ext --inplace\n",
        "!python setup.py install"
      ],
      "metadata": {
        "colab": {
          "base_uri": "https://localhost:8080/"
        },
        "id": "hlfsa8UmQlSj",
        "outputId": "77eaf39b-dd86-485c-e720-12e763384c6e"
      },
      "execution_count": 45,
      "outputs": [
        {
          "output_type": "stream",
          "name": "stdout",
          "text": [
            "Cloning into 'causalml'...\n",
            "remote: Enumerating objects: 3431, done.\u001b[K\n",
            "remote: Counting objects: 100% (303/303), done.\u001b[K\n",
            "remote: Compressing objects: 100% (156/156), done.\u001b[K\n",
            "remote: Total 3431 (delta 179), reused 238 (delta 147), pack-reused 3128\u001b[K\n",
            "Receiving objects: 100% (3431/3431), 61.83 MiB | 24.69 MiB/s, done.\n",
            "Resolving deltas: 100% (2123/2123), done.\n",
            "/content/causalml\n",
            "Looking in indexes: https://pypi.org/simple, https://us-python.pkg.dev/colab-wheels/public/simple/\n",
            "Requirement already satisfied: setuptools>=41.0.0 in /usr/local/lib/python3.8/dist-packages (from -r requirements.txt (line 1)) (57.4.0)\n",
            "Collecting forestci==0.6\n",
            "  Downloading forestci-0.6-py3-none-any.whl (12 kB)\n",
            "Collecting pathos==0.2.9\n",
            "  Downloading pathos-0.2.9-py3-none-any.whl (76 kB)\n",
            "\u001b[2K     \u001b[90m━━━━━━━━━━━━━━━━━━━━━━━━━━━━━━━━━━━━━━━━\u001b[0m \u001b[32m76.9/76.9 KB\u001b[0m \u001b[31m2.9 MB/s\u001b[0m eta \u001b[36m0:00:00\u001b[0m\n",
            "\u001b[?25hRequirement already satisfied: pip>=10.0 in /usr/local/lib/python3.8/dist-packages (from -r requirements.txt (line 4)) (22.0.4)\n",
            "Requirement already satisfied: numpy>=1.18.5 in /usr/local/lib/python3.8/dist-packages (from -r requirements.txt (line 5)) (1.21.6)\n",
            "Requirement already satisfied: scipy>=1.4.1 in /usr/local/lib/python3.8/dist-packages (from -r requirements.txt (line 6)) (1.7.3)\n",
            "Requirement already satisfied: matplotlib in /usr/local/lib/python3.8/dist-packages (from -r requirements.txt (line 7)) (3.2.2)\n",
            "Requirement already satisfied: pandas>=0.24.1 in /usr/local/lib/python3.8/dist-packages (from -r requirements.txt (line 8)) (1.3.5)\n",
            "Requirement already satisfied: scikit-learn<=1.0.2 in /usr/local/lib/python3.8/dist-packages (from -r requirements.txt (line 9)) (1.0.2)\n",
            "Requirement already satisfied: statsmodels>=0.9.0 in /usr/local/lib/python3.8/dist-packages (from -r requirements.txt (line 10)) (0.12.2)\n",
            "Requirement already satisfied: seaborn in /usr/local/lib/python3.8/dist-packages (from -r requirements.txt (line 11)) (0.11.2)\n",
            "Requirement already satisfied: Cython>=0.28.0 in /usr/local/lib/python3.8/dist-packages (from -r requirements.txt (line 12)) (0.29.33)\n",
            "Requirement already satisfied: xgboost in /usr/local/lib/python3.8/dist-packages (from -r requirements.txt (line 13)) (0.90)\n",
            "Requirement already satisfied: pydotplus in /usr/local/lib/python3.8/dist-packages (from -r requirements.txt (line 14)) (2.0.2)\n",
            "Requirement already satisfied: tqdm in /usr/local/lib/python3.8/dist-packages (from -r requirements.txt (line 15)) (4.64.1)\n",
            "Collecting shap\n",
            "  Downloading shap-0.41.0-cp38-cp38-manylinux_2_12_x86_64.manylinux2010_x86_64.whl (575 kB)\n",
            "\u001b[2K     \u001b[90m━━━━━━━━━━━━━━━━━━━━━━━━━━━━━━━━━━━━━━\u001b[0m \u001b[32m575.9/575.9 KB\u001b[0m \u001b[31m14.0 MB/s\u001b[0m eta \u001b[36m0:00:00\u001b[0m\n",
            "\u001b[?25hRequirement already satisfied: dill in /usr/local/lib/python3.8/dist-packages (from -r requirements.txt (line 17)) (0.3.6)\n",
            "Requirement already satisfied: lightgbm in /usr/local/lib/python3.8/dist-packages (from -r requirements.txt (line 18)) (2.2.3)\n",
            "Collecting pygam\n",
            "  Downloading pygam-0.8.0-py2.py3-none-any.whl (1.8 MB)\n",
            "\u001b[2K     \u001b[90m━━━━━━━━━━━━━━━━━━━━━━━━━━━━━━━━━━━━━━━━\u001b[0m \u001b[32m1.8/1.8 MB\u001b[0m \u001b[31m48.1 MB/s\u001b[0m eta \u001b[36m0:00:00\u001b[0m\n",
            "\u001b[?25hRequirement already satisfied: packaging in /usr/local/lib/python3.8/dist-packages (from -r requirements.txt (line 20)) (23.0)\n",
            "Requirement already satisfied: torch in /usr/local/lib/python3.8/dist-packages (from -r requirements.txt (line 21)) (1.13.1+cu116)\n",
            "Collecting pyro-ppl\n",
            "  Downloading pyro_ppl-1.8.4-py3-none-any.whl (730 kB)\n",
            "\u001b[2K     \u001b[90m━━━━━━━━━━━━━━━━━━━━━━━━━━━━━━━━━━━━━━\u001b[0m \u001b[32m730.7/730.7 KB\u001b[0m \u001b[31m49.8 MB/s\u001b[0m eta \u001b[36m0:00:00\u001b[0m\n",
            "\u001b[?25hRequirement already satisfied: graphviz in /usr/local/lib/python3.8/dist-packages (from -r requirements.txt (line 23)) (0.10.1)\n",
            "Collecting pox>=0.3.1\n",
            "  Downloading pox-0.3.2-py3-none-any.whl (29 kB)\n",
            "Collecting ppft>=1.7.6.5\n",
            "  Downloading ppft-1.7.6.6-py3-none-any.whl (52 kB)\n",
            "\u001b[2K     \u001b[90m━━━━━━━━━━━━━━━━━━━━━━━━━━━━━━━━━━━━━━━━\u001b[0m \u001b[32m52.8/52.8 KB\u001b[0m \u001b[31m5.2 MB/s\u001b[0m eta \u001b[36m0:00:00\u001b[0m\n",
            "\u001b[?25hCollecting multiprocess>=0.70.13\n",
            "  Downloading multiprocess-0.70.14-py38-none-any.whl (132 kB)\n",
            "\u001b[2K     \u001b[90m━━━━━━━━━━━━━━━━━━━━━━━━━━━━━━━━━━━━━━\u001b[0m \u001b[32m132.0/132.0 KB\u001b[0m \u001b[31m11.5 MB/s\u001b[0m eta \u001b[36m0:00:00\u001b[0m\n",
            "\u001b[?25hRequirement already satisfied: pyparsing!=2.0.4,!=2.1.2,!=2.1.6,>=2.0.1 in /usr/local/lib/python3.8/dist-packages (from matplotlib->-r requirements.txt (line 7)) (3.0.9)\n",
            "Requirement already satisfied: cycler>=0.10 in /usr/local/lib/python3.8/dist-packages (from matplotlib->-r requirements.txt (line 7)) (0.11.0)\n",
            "Requirement already satisfied: python-dateutil>=2.1 in /usr/local/lib/python3.8/dist-packages (from matplotlib->-r requirements.txt (line 7)) (2.8.2)\n",
            "Requirement already satisfied: kiwisolver>=1.0.1 in /usr/local/lib/python3.8/dist-packages (from matplotlib->-r requirements.txt (line 7)) (1.4.4)\n",
            "Requirement already satisfied: pytz>=2017.3 in /usr/local/lib/python3.8/dist-packages (from pandas>=0.24.1->-r requirements.txt (line 8)) (2022.7.1)\n",
            "Requirement already satisfied: joblib>=0.11 in /usr/local/lib/python3.8/dist-packages (from scikit-learn<=1.0.2->-r requirements.txt (line 9)) (1.2.0)\n",
            "Requirement already satisfied: threadpoolctl>=2.0.0 in /usr/local/lib/python3.8/dist-packages (from scikit-learn<=1.0.2->-r requirements.txt (line 9)) (3.1.0)\n",
            "Requirement already satisfied: patsy>=0.5 in /usr/local/lib/python3.8/dist-packages (from statsmodels>=0.9.0->-r requirements.txt (line 10)) (0.5.3)\n",
            "Requirement already satisfied: numba in /usr/local/lib/python3.8/dist-packages (from shap->-r requirements.txt (line 16)) (0.56.4)\n",
            "Collecting slicer==0.0.7\n",
            "  Downloading slicer-0.0.7-py3-none-any.whl (14 kB)\n",
            "Requirement already satisfied: cloudpickle in /usr/local/lib/python3.8/dist-packages (from shap->-r requirements.txt (line 16)) (2.2.1)\n",
            "Requirement already satisfied: future in /usr/local/lib/python3.8/dist-packages (from pygam->-r requirements.txt (line 19)) (0.16.0)\n",
            "Requirement already satisfied: progressbar2 in /usr/local/lib/python3.8/dist-packages (from pygam->-r requirements.txt (line 19)) (3.38.0)\n",
            "Requirement already satisfied: typing-extensions in /usr/local/lib/python3.8/dist-packages (from torch->-r requirements.txt (line 21)) (4.4.0)\n",
            "Collecting pyro-api>=0.1.1\n",
            "  Downloading pyro_api-0.1.2-py3-none-any.whl (11 kB)\n",
            "Requirement already satisfied: opt-einsum>=2.3.2 in /usr/local/lib/python3.8/dist-packages (from pyro-ppl->-r requirements.txt (line 22)) (3.3.0)\n",
            "Requirement already satisfied: six in /usr/local/lib/python3.8/dist-packages (from patsy>=0.5->statsmodels>=0.9.0->-r requirements.txt (line 10)) (1.15.0)\n",
            "Requirement already satisfied: llvmlite<0.40,>=0.39.0dev0 in /usr/local/lib/python3.8/dist-packages (from numba->shap->-r requirements.txt (line 16)) (0.39.1)\n",
            "Requirement already satisfied: importlib-metadata in /usr/local/lib/python3.8/dist-packages (from numba->shap->-r requirements.txt (line 16)) (6.0.0)\n",
            "Requirement already satisfied: python-utils>=2.3.0 in /usr/local/lib/python3.8/dist-packages (from progressbar2->pygam->-r requirements.txt (line 19)) (3.4.5)\n",
            "Requirement already satisfied: zipp>=0.5 in /usr/local/lib/python3.8/dist-packages (from importlib-metadata->numba->shap->-r requirements.txt (line 16)) (3.12.0)\n",
            "Installing collected packages: pyro-api, slicer, ppft, pox, multiprocess, pyro-ppl, pygam, pathos, shap, forestci\n",
            "Successfully installed forestci-0.6 multiprocess-0.70.14 pathos-0.2.9 pox-0.3.2 ppft-1.7.6.6 pygam-0.8.0 pyro-api-0.1.2 pyro-ppl-1.8.4 shap-0.41.0 slicer-0.0.7\n",
            "Compiling causalml/inference/tree/causal/_criterion.pyx because it changed.\n",
            "Compiling causalml/inference/tree/causal/_builder.pyx because it changed.\n",
            "Compiling causalml/inference/tree/uplift.pyx because it changed.\n",
            "[1/3] Cythonizing causalml/inference/tree/causal/_builder.pyx\n",
            "[2/3] Cythonizing causalml/inference/tree/causal/_criterion.pyx\n",
            "[3/3] Cythonizing causalml/inference/tree/uplift.pyx\n",
            "/usr/local/lib/python3.8/dist-packages/Cython/Compiler/Main.py:369: FutureWarning: Cython directive 'language_level' not set, using 2 for now (Py2). This will change in a later release! File: /content/causalml/causalml/inference/tree/uplift.pyx\n",
            "  tree = Parsing.p_module(s, pxd, full_module_name)\n",
            "running build_ext\n",
            "building 'causalml.inference.tree.causal._criterion' extension\n",
            "creating build\n",
            "creating build/temp.linux-x86_64-3.8\n",
            "creating build/temp.linux-x86_64-3.8/causalml\n",
            "creating build/temp.linux-x86_64-3.8/causalml/inference\n",
            "creating build/temp.linux-x86_64-3.8/causalml/inference/tree\n",
            "creating build/temp.linux-x86_64-3.8/causalml/inference/tree/causal\n",
            "x86_64-linux-gnu-gcc -pthread -Wno-unused-result -Wsign-compare -DNDEBUG -g -fwrapv -O2 -Wall -g -fstack-protector-strong -Wformat -Werror=format-security -g -fwrapv -O2 -g -fstack-protector-strong -Wformat -Werror=format-security -Wdate-time -D_FORTIFY_SOURCE=2 -fPIC -I/usr/local/lib/python3.8/dist-packages/numpy/core/include -I/usr/local/lib/python3.8/dist-packages/numpy/core/include -I/usr/include/python3.8 -c causalml/inference/tree/causal/_criterion.c -o build/temp.linux-x86_64-3.8/causalml/inference/tree/causal/_criterion.o -O3\n",
            "In file included from \u001b[01m\u001b[K/usr/local/lib/python3.8/dist-packages/numpy/core/include/numpy/ndarraytypes.h:1969\u001b[m\u001b[K,\n",
            "                 from \u001b[01m\u001b[K/usr/local/lib/python3.8/dist-packages/numpy/core/include/numpy/ndarrayobject.h:12\u001b[m\u001b[K,\n",
            "                 from \u001b[01m\u001b[K/usr/local/lib/python3.8/dist-packages/numpy/core/include/numpy/arrayobject.h:4\u001b[m\u001b[K,\n",
            "                 from \u001b[01m\u001b[Kcausalml/inference/tree/causal/_criterion.c:771\u001b[m\u001b[K:\n",
            "\u001b[01m\u001b[K/usr/local/lib/python3.8/dist-packages/numpy/core/include/numpy/npy_1_7_deprecated_api.h:17:2:\u001b[m\u001b[K \u001b[01;35m\u001b[Kwarning: \u001b[m\u001b[K#warning \"Using deprecated NumPy API, disable it with \" \"#define NPY_NO_DEPRECATED_API NPY_1_7_API_VERSION\" [\u001b[01;35m\u001b[K-Wcpp\u001b[m\u001b[K]\n",
            "   17 | #\u001b[01;35m\u001b[Kwarning\u001b[m\u001b[K \"Using deprecated NumPy API, disable it with \" \\\n",
            "      |  \u001b[01;35m\u001b[K^~~~~~~\u001b[m\u001b[K\n",
            "creating build/lib.linux-x86_64-3.8\n",
            "creating build/lib.linux-x86_64-3.8/causalml\n",
            "creating build/lib.linux-x86_64-3.8/causalml/inference\n",
            "creating build/lib.linux-x86_64-3.8/causalml/inference/tree\n",
            "creating build/lib.linux-x86_64-3.8/causalml/inference/tree/causal\n",
            "x86_64-linux-gnu-gcc -pthread -shared -Wl,-O1 -Wl,-Bsymbolic-functions -Wl,-Bsymbolic-functions -Wl,-z,relro -g -fwrapv -O2 -Wl,-Bsymbolic-functions -Wl,-z,relro -g -fwrapv -O2 -g -fstack-protector-strong -Wformat -Werror=format-security -Wdate-time -D_FORTIFY_SOURCE=2 build/temp.linux-x86_64-3.8/causalml/inference/tree/causal/_criterion.o -o build/lib.linux-x86_64-3.8/causalml/inference/tree/causal/_criterion.cpython-38-x86_64-linux-gnu.so\n",
            "building 'causalml.inference.tree.causal._builder' extension\n",
            "x86_64-linux-gnu-gcc -pthread -Wno-unused-result -Wsign-compare -DNDEBUG -g -fwrapv -O2 -Wall -g -fstack-protector-strong -Wformat -Werror=format-security -g -fwrapv -O2 -g -fstack-protector-strong -Wformat -Werror=format-security -Wdate-time -D_FORTIFY_SOURCE=2 -fPIC -I/usr/local/lib/python3.8/dist-packages/numpy/core/include -I/usr/local/lib/python3.8/dist-packages/numpy/core/include -I/usr/include/python3.8 -c causalml/inference/tree/causal/_builder.c -o build/temp.linux-x86_64-3.8/causalml/inference/tree/causal/_builder.o -O3\n",
            "In file included from \u001b[01m\u001b[K/usr/local/lib/python3.8/dist-packages/numpy/core/include/numpy/ndarraytypes.h:1969\u001b[m\u001b[K,\n",
            "                 from \u001b[01m\u001b[K/usr/local/lib/python3.8/dist-packages/numpy/core/include/numpy/ndarrayobject.h:12\u001b[m\u001b[K,\n",
            "                 from \u001b[01m\u001b[K/usr/local/lib/python3.8/dist-packages/numpy/core/include/numpy/arrayobject.h:4\u001b[m\u001b[K,\n",
            "                 from \u001b[01m\u001b[Kcausalml/inference/tree/causal/_builder.c:771\u001b[m\u001b[K:\n",
            "\u001b[01m\u001b[K/usr/local/lib/python3.8/dist-packages/numpy/core/include/numpy/npy_1_7_deprecated_api.h:17:2:\u001b[m\u001b[K \u001b[01;35m\u001b[Kwarning: \u001b[m\u001b[K#warning \"Using deprecated NumPy API, disable it with \" \"#define NPY_NO_DEPRECATED_API NPY_1_7_API_VERSION\" [\u001b[01;35m\u001b[K-Wcpp\u001b[m\u001b[K]\n",
            "   17 | #\u001b[01;35m\u001b[Kwarning\u001b[m\u001b[K \"Using deprecated NumPy API, disable it with \" \\\n",
            "      |  \u001b[01;35m\u001b[K^~~~~~~\u001b[m\u001b[K\n",
            "\u001b[01m\u001b[Kcausalml/inference/tree/causal/_builder.c:\u001b[m\u001b[K In function ‘\u001b[01m\u001b[K__pyx_f_8causalml_9inference_4tree_6causal_8_builder_27DepthFirstCausalTreeBuilder_build\u001b[m\u001b[K’:\n",
            "\u001b[01m\u001b[Kcausalml/inference/tree/causal/_builder.c:5136:41:\u001b[m\u001b[K \u001b[01;35m\u001b[Kwarning: \u001b[m\u001b[Kcomparison of integer expressions of different signedness: ‘\u001b[01m\u001b[K__pyx_t_7sklearn_4tree_5_tree_SIZE_t\u001b[m\u001b[K’ {aka ‘\u001b[01m\u001b[Klong int\u001b[m\u001b[K’} and ‘\u001b[01m\u001b[Klong unsigned int\u001b[m\u001b[K’ [\u001b[01;35m\u001b[K-Wsign-compare\u001b[m\u001b[K]\n",
            " 5136 |           __pyx_t_9 = ((__pyx_v_node_id \u001b[01;35m\u001b[K==\u001b[m\u001b[K SIZE_MAX) != 0);\n",
            "      |                                         \u001b[01;35m\u001b[K^~\u001b[m\u001b[K\n",
            "\u001b[01m\u001b[Kcausalml/inference/tree/causal/_builder.c:\u001b[m\u001b[K In function ‘\u001b[01m\u001b[K__pyx_f_8causalml_9inference_4tree_6causal_8_builder_26BestFirstCausalTreeBuilder__add_split_node\u001b[m\u001b[K’:\n",
            "\u001b[01m\u001b[Kcausalml/inference/tree/causal/_builder.c:7643:35:\u001b[m\u001b[K \u001b[01;35m\u001b[Kwarning: \u001b[m\u001b[Kcomparison of integer expressions of different signedness: ‘\u001b[01m\u001b[K__pyx_t_7sklearn_4tree_5_tree_SIZE_t\u001b[m\u001b[K’ {aka ‘\u001b[01m\u001b[Klong int\u001b[m\u001b[K’} and ‘\u001b[01m\u001b[Klong unsigned int\u001b[m\u001b[K’ [\u001b[01;35m\u001b[K-Wsign-compare\u001b[m\u001b[K]\n",
            " 7643 |     __pyx_t_6 = ((__pyx_v_node_id \u001b[01;35m\u001b[K==\u001b[m\u001b[K SIZE_MAX) != 0);\n",
            "      |                                   \u001b[01;35m\u001b[K^~\u001b[m\u001b[K\n",
            "x86_64-linux-gnu-gcc -pthread -shared -Wl,-O1 -Wl,-Bsymbolic-functions -Wl,-Bsymbolic-functions -Wl,-z,relro -g -fwrapv -O2 -Wl,-Bsymbolic-functions -Wl,-z,relro -g -fwrapv -O2 -g -fstack-protector-strong -Wformat -Werror=format-security -Wdate-time -D_FORTIFY_SOURCE=2 build/temp.linux-x86_64-3.8/causalml/inference/tree/causal/_builder.o -o build/lib.linux-x86_64-3.8/causalml/inference/tree/causal/_builder.cpython-38-x86_64-linux-gnu.so\n",
            "building 'causalml.inference.tree.uplift' extension\n",
            "x86_64-linux-gnu-gcc -pthread -Wno-unused-result -Wsign-compare -DNDEBUG -g -fwrapv -O2 -Wall -g -fstack-protector-strong -Wformat -Werror=format-security -g -fwrapv -O2 -g -fstack-protector-strong -Wformat -Werror=format-security -Wdate-time -D_FORTIFY_SOURCE=2 -fPIC -I/usr/local/lib/python3.8/dist-packages/numpy/core/include -I/usr/local/lib/python3.8/dist-packages/numpy/core/include -I/usr/include/python3.8 -c causalml/inference/tree/uplift.c -o build/temp.linux-x86_64-3.8/causalml/inference/tree/uplift.o -O3\n",
            "In file included from \u001b[01m\u001b[K/usr/local/lib/python3.8/dist-packages/numpy/core/include/numpy/ndarraytypes.h:1969\u001b[m\u001b[K,\n",
            "                 from \u001b[01m\u001b[K/usr/local/lib/python3.8/dist-packages/numpy/core/include/numpy/ndarrayobject.h:12\u001b[m\u001b[K,\n",
            "                 from \u001b[01m\u001b[K/usr/local/lib/python3.8/dist-packages/numpy/core/include/numpy/arrayobject.h:4\u001b[m\u001b[K,\n",
            "                 from \u001b[01m\u001b[Kcausalml/inference/tree/uplift.c:771\u001b[m\u001b[K:\n",
            "\u001b[01m\u001b[K/usr/local/lib/python3.8/dist-packages/numpy/core/include/numpy/npy_1_7_deprecated_api.h:17:2:\u001b[m\u001b[K \u001b[01;35m\u001b[Kwarning: \u001b[m\u001b[K#warning \"Using deprecated NumPy API, disable it with \" \"#define NPY_NO_DEPRECATED_API NPY_1_7_API_VERSION\" [\u001b[01;35m\u001b[K-Wcpp\u001b[m\u001b[K]\n",
            "   17 | #\u001b[01;35m\u001b[Kwarning\u001b[m\u001b[K \"Using deprecated NumPy API, disable it with \" \\\n",
            "      |  \u001b[01;35m\u001b[K^~~~~~~\u001b[m\u001b[K\n",
            "x86_64-linux-gnu-gcc -pthread -shared -Wl,-O1 -Wl,-Bsymbolic-functions -Wl,-Bsymbolic-functions -Wl,-z,relro -g -fwrapv -O2 -Wl,-Bsymbolic-functions -Wl,-z,relro -g -fwrapv -O2 -g -fstack-protector-strong -Wformat -Werror=format-security -Wdate-time -D_FORTIFY_SOURCE=2 build/temp.linux-x86_64-3.8/causalml/inference/tree/uplift.o -o build/lib.linux-x86_64-3.8/causalml/inference/tree/uplift.cpython-38-x86_64-linux-gnu.so\n",
            "copying build/lib.linux-x86_64-3.8/causalml/inference/tree/causal/_criterion.cpython-38-x86_64-linux-gnu.so -> causalml/inference/tree/causal\n",
            "copying build/lib.linux-x86_64-3.8/causalml/inference/tree/causal/_builder.cpython-38-x86_64-linux-gnu.so -> causalml/inference/tree/causal\n",
            "copying build/lib.linux-x86_64-3.8/causalml/inference/tree/uplift.cpython-38-x86_64-linux-gnu.so -> causalml/inference/tree\n",
            "running install\n",
            "running bdist_egg\n",
            "running egg_info\n",
            "creating causalml.egg-info\n",
            "writing causalml.egg-info/PKG-INFO\n",
            "writing dependency_links to causalml.egg-info/dependency_links.txt\n",
            "writing requirements to causalml.egg-info/requires.txt\n",
            "writing top-level names to causalml.egg-info/top_level.txt\n",
            "writing manifest file 'causalml.egg-info/SOURCES.txt'\n",
            "reading manifest file 'causalml.egg-info/SOURCES.txt'\n",
            "reading manifest template 'MANIFEST.in'\n",
            "warning: no files found matching '*.h' under directory 'causalml'\n",
            "adding license file 'LICENSE'\n",
            "writing manifest file 'causalml.egg-info/SOURCES.txt'\n",
            "installing library code to build/bdist.linux-x86_64/egg\n",
            "running install_lib\n",
            "running build_py\n",
            "copying causalml/__init__.py -> build/lib.linux-x86_64-3.8/causalml\n",
            "copying causalml/features.py -> build/lib.linux-x86_64-3.8/causalml\n",
            "copying causalml/propensity.py -> build/lib.linux-x86_64-3.8/causalml\n",
            "copying causalml/match.py -> build/lib.linux-x86_64-3.8/causalml\n",
            "copying causalml/inference/__init__.py -> build/lib.linux-x86_64-3.8/causalml/inference\n",
            "creating build/lib.linux-x86_64-3.8/causalml/feature_selection\n",
            "copying causalml/feature_selection/__init__.py -> build/lib.linux-x86_64-3.8/causalml/feature_selection\n",
            "copying causalml/feature_selection/filters.py -> build/lib.linux-x86_64-3.8/causalml/feature_selection\n",
            "creating build/lib.linux-x86_64-3.8/causalml/metrics\n",
            "copying causalml/metrics/__init__.py -> build/lib.linux-x86_64-3.8/causalml/metrics\n",
            "copying causalml/metrics/sensitivity.py -> build/lib.linux-x86_64-3.8/causalml/metrics\n",
            "copying causalml/metrics/visualize.py -> build/lib.linux-x86_64-3.8/causalml/metrics\n",
            "copying causalml/metrics/regression.py -> build/lib.linux-x86_64-3.8/causalml/metrics\n",
            "copying causalml/metrics/classification.py -> build/lib.linux-x86_64-3.8/causalml/metrics\n",
            "copying causalml/metrics/const.py -> build/lib.linux-x86_64-3.8/causalml/metrics\n",
            "creating build/lib.linux-x86_64-3.8/causalml/dataset\n",
            "copying causalml/dataset/__init__.py -> build/lib.linux-x86_64-3.8/causalml/dataset\n",
            "copying causalml/dataset/regression.py -> build/lib.linux-x86_64-3.8/causalml/dataset\n",
            "copying causalml/dataset/classification.py -> build/lib.linux-x86_64-3.8/causalml/dataset\n",
            "copying causalml/dataset/synthetic.py -> build/lib.linux-x86_64-3.8/causalml/dataset\n",
            "creating build/lib.linux-x86_64-3.8/causalml/optimize\n",
            "copying causalml/optimize/__init__.py -> build/lib.linux-x86_64-3.8/causalml/optimize\n",
            "copying causalml/optimize/utils.py -> build/lib.linux-x86_64-3.8/causalml/optimize\n",
            "copying causalml/optimize/unit_selection.py -> build/lib.linux-x86_64-3.8/causalml/optimize\n",
            "copying causalml/optimize/policylearner.py -> build/lib.linux-x86_64-3.8/causalml/optimize\n",
            "copying causalml/optimize/value_optimization.py -> build/lib.linux-x86_64-3.8/causalml/optimize\n",
            "copying causalml/optimize/pns.py -> build/lib.linux-x86_64-3.8/causalml/optimize\n",
            "creating build/lib.linux-x86_64-3.8/causalml/inference/iv\n",
            "copying causalml/inference/iv/iv_regression.py -> build/lib.linux-x86_64-3.8/causalml/inference/iv\n",
            "copying causalml/inference/iv/__init__.py -> build/lib.linux-x86_64-3.8/causalml/inference/iv\n",
            "copying causalml/inference/iv/drivlearner.py -> build/lib.linux-x86_64-3.8/causalml/inference/iv\n",
            "creating build/lib.linux-x86_64-3.8/causalml/inference/nn\n",
            "copying causalml/inference/nn/cevae.py -> build/lib.linux-x86_64-3.8/causalml/inference/nn\n",
            "copying causalml/inference/nn/__init__.py -> build/lib.linux-x86_64-3.8/causalml/inference/nn\n",
            "creating build/lib.linux-x86_64-3.8/causalml/inference/meta\n",
            "copying causalml/inference/meta/__init__.py -> build/lib.linux-x86_64-3.8/causalml/inference/meta\n",
            "copying causalml/inference/meta/explainer.py -> build/lib.linux-x86_64-3.8/causalml/inference/meta\n",
            "copying causalml/inference/meta/tmle.py -> build/lib.linux-x86_64-3.8/causalml/inference/meta\n",
            "copying causalml/inference/meta/utils.py -> build/lib.linux-x86_64-3.8/causalml/inference/meta\n",
            "copying causalml/inference/meta/slearner.py -> build/lib.linux-x86_64-3.8/causalml/inference/meta\n",
            "copying causalml/inference/meta/xlearner.py -> build/lib.linux-x86_64-3.8/causalml/inference/meta\n",
            "copying causalml/inference/meta/rlearner.py -> build/lib.linux-x86_64-3.8/causalml/inference/meta\n",
            "copying causalml/inference/meta/base.py -> build/lib.linux-x86_64-3.8/causalml/inference/meta\n",
            "copying causalml/inference/meta/tlearner.py -> build/lib.linux-x86_64-3.8/causalml/inference/meta\n",
            "copying causalml/inference/meta/drlearner.py -> build/lib.linux-x86_64-3.8/causalml/inference/meta\n",
            "copying causalml/inference/tree/__init__.py -> build/lib.linux-x86_64-3.8/causalml/inference/tree\n",
            "copying causalml/inference/tree/utils.py -> build/lib.linux-x86_64-3.8/causalml/inference/tree\n",
            "copying causalml/inference/tree/plot.py -> build/lib.linux-x86_64-3.8/causalml/inference/tree\n",
            "creating build/lib.linux-x86_64-3.8/causalml/inference/tf\n",
            "copying causalml/inference/tf/__init__.py -> build/lib.linux-x86_64-3.8/causalml/inference/tf\n",
            "copying causalml/inference/tf/utils.py -> build/lib.linux-x86_64-3.8/causalml/inference/tf\n",
            "copying causalml/inference/tf/dragonnet.py -> build/lib.linux-x86_64-3.8/causalml/inference/tf\n",
            "copying causalml/inference/tree/causal/__init__.py -> build/lib.linux-x86_64-3.8/causalml/inference/tree/causal\n",
            "copying causalml/inference/tree/causal/causaltree.py -> build/lib.linux-x86_64-3.8/causalml/inference/tree/causal\n",
            "copying causalml/inference/tree/causal/_tree.py -> build/lib.linux-x86_64-3.8/causalml/inference/tree/causal\n",
            "copying causalml/inference/tree/causal/causalforest.py -> build/lib.linux-x86_64-3.8/causalml/inference/tree/causal\n",
            "running build_ext\n",
            "creating build/bdist.linux-x86_64\n",
            "creating build/bdist.linux-x86_64/egg\n",
            "creating build/bdist.linux-x86_64/egg/causalml\n",
            "creating build/bdist.linux-x86_64/egg/causalml/inference\n",
            "copying build/lib.linux-x86_64-3.8/causalml/inference/__init__.py -> build/bdist.linux-x86_64/egg/causalml/inference\n",
            "creating build/bdist.linux-x86_64/egg/causalml/inference/iv\n",
            "copying build/lib.linux-x86_64-3.8/causalml/inference/iv/iv_regression.py -> build/bdist.linux-x86_64/egg/causalml/inference/iv\n",
            "copying build/lib.linux-x86_64-3.8/causalml/inference/iv/__init__.py -> build/bdist.linux-x86_64/egg/causalml/inference/iv\n",
            "copying build/lib.linux-x86_64-3.8/causalml/inference/iv/drivlearner.py -> build/bdist.linux-x86_64/egg/causalml/inference/iv\n",
            "creating build/bdist.linux-x86_64/egg/causalml/inference/nn\n",
            "copying build/lib.linux-x86_64-3.8/causalml/inference/nn/cevae.py -> build/bdist.linux-x86_64/egg/causalml/inference/nn\n",
            "copying build/lib.linux-x86_64-3.8/causalml/inference/nn/__init__.py -> build/bdist.linux-x86_64/egg/causalml/inference/nn\n",
            "creating build/bdist.linux-x86_64/egg/causalml/inference/meta\n",
            "copying build/lib.linux-x86_64-3.8/causalml/inference/meta/__init__.py -> build/bdist.linux-x86_64/egg/causalml/inference/meta\n",
            "copying build/lib.linux-x86_64-3.8/causalml/inference/meta/explainer.py -> build/bdist.linux-x86_64/egg/causalml/inference/meta\n",
            "copying build/lib.linux-x86_64-3.8/causalml/inference/meta/tmle.py -> build/bdist.linux-x86_64/egg/causalml/inference/meta\n",
            "copying build/lib.linux-x86_64-3.8/causalml/inference/meta/utils.py -> build/bdist.linux-x86_64/egg/causalml/inference/meta\n",
            "copying build/lib.linux-x86_64-3.8/causalml/inference/meta/slearner.py -> build/bdist.linux-x86_64/egg/causalml/inference/meta\n",
            "copying build/lib.linux-x86_64-3.8/causalml/inference/meta/xlearner.py -> build/bdist.linux-x86_64/egg/causalml/inference/meta\n",
            "copying build/lib.linux-x86_64-3.8/causalml/inference/meta/rlearner.py -> build/bdist.linux-x86_64/egg/causalml/inference/meta\n",
            "copying build/lib.linux-x86_64-3.8/causalml/inference/meta/base.py -> build/bdist.linux-x86_64/egg/causalml/inference/meta\n",
            "copying build/lib.linux-x86_64-3.8/causalml/inference/meta/tlearner.py -> build/bdist.linux-x86_64/egg/causalml/inference/meta\n",
            "copying build/lib.linux-x86_64-3.8/causalml/inference/meta/drlearner.py -> build/bdist.linux-x86_64/egg/causalml/inference/meta\n",
            "creating build/bdist.linux-x86_64/egg/causalml/inference/tree\n",
            "copying build/lib.linux-x86_64-3.8/causalml/inference/tree/__init__.py -> build/bdist.linux-x86_64/egg/causalml/inference/tree\n",
            "copying build/lib.linux-x86_64-3.8/causalml/inference/tree/utils.py -> build/bdist.linux-x86_64/egg/causalml/inference/tree\n",
            "copying build/lib.linux-x86_64-3.8/causalml/inference/tree/uplift.cpython-38-x86_64-linux-gnu.so -> build/bdist.linux-x86_64/egg/causalml/inference/tree\n",
            "creating build/bdist.linux-x86_64/egg/causalml/inference/tree/causal\n",
            "copying build/lib.linux-x86_64-3.8/causalml/inference/tree/causal/_builder.cpython-38-x86_64-linux-gnu.so -> build/bdist.linux-x86_64/egg/causalml/inference/tree/causal\n",
            "copying build/lib.linux-x86_64-3.8/causalml/inference/tree/causal/__init__.py -> build/bdist.linux-x86_64/egg/causalml/inference/tree/causal\n",
            "copying build/lib.linux-x86_64-3.8/causalml/inference/tree/causal/causaltree.py -> build/bdist.linux-x86_64/egg/causalml/inference/tree/causal\n",
            "copying build/lib.linux-x86_64-3.8/causalml/inference/tree/causal/_criterion.cpython-38-x86_64-linux-gnu.so -> build/bdist.linux-x86_64/egg/causalml/inference/tree/causal\n",
            "copying build/lib.linux-x86_64-3.8/causalml/inference/tree/causal/_tree.py -> build/bdist.linux-x86_64/egg/causalml/inference/tree/causal\n",
            "copying build/lib.linux-x86_64-3.8/causalml/inference/tree/causal/causalforest.py -> build/bdist.linux-x86_64/egg/causalml/inference/tree/causal\n",
            "copying build/lib.linux-x86_64-3.8/causalml/inference/tree/plot.py -> build/bdist.linux-x86_64/egg/causalml/inference/tree\n",
            "creating build/bdist.linux-x86_64/egg/causalml/inference/tf\n",
            "copying build/lib.linux-x86_64-3.8/causalml/inference/tf/__init__.py -> build/bdist.linux-x86_64/egg/causalml/inference/tf\n",
            "copying build/lib.linux-x86_64-3.8/causalml/inference/tf/utils.py -> build/bdist.linux-x86_64/egg/causalml/inference/tf\n",
            "copying build/lib.linux-x86_64-3.8/causalml/inference/tf/dragonnet.py -> build/bdist.linux-x86_64/egg/causalml/inference/tf\n",
            "copying build/lib.linux-x86_64-3.8/causalml/__init__.py -> build/bdist.linux-x86_64/egg/causalml\n",
            "copying build/lib.linux-x86_64-3.8/causalml/features.py -> build/bdist.linux-x86_64/egg/causalml\n",
            "creating build/bdist.linux-x86_64/egg/causalml/feature_selection\n",
            "copying build/lib.linux-x86_64-3.8/causalml/feature_selection/__init__.py -> build/bdist.linux-x86_64/egg/causalml/feature_selection\n",
            "copying build/lib.linux-x86_64-3.8/causalml/feature_selection/filters.py -> build/bdist.linux-x86_64/egg/causalml/feature_selection\n",
            "copying build/lib.linux-x86_64-3.8/causalml/propensity.py -> build/bdist.linux-x86_64/egg/causalml\n",
            "creating build/bdist.linux-x86_64/egg/causalml/metrics\n",
            "copying build/lib.linux-x86_64-3.8/causalml/metrics/__init__.py -> build/bdist.linux-x86_64/egg/causalml/metrics\n",
            "copying build/lib.linux-x86_64-3.8/causalml/metrics/sensitivity.py -> build/bdist.linux-x86_64/egg/causalml/metrics\n",
            "copying build/lib.linux-x86_64-3.8/causalml/metrics/visualize.py -> build/bdist.linux-x86_64/egg/causalml/metrics\n",
            "copying build/lib.linux-x86_64-3.8/causalml/metrics/regression.py -> build/bdist.linux-x86_64/egg/causalml/metrics\n",
            "copying build/lib.linux-x86_64-3.8/causalml/metrics/classification.py -> build/bdist.linux-x86_64/egg/causalml/metrics\n",
            "copying build/lib.linux-x86_64-3.8/causalml/metrics/const.py -> build/bdist.linux-x86_64/egg/causalml/metrics\n",
            "creating build/bdist.linux-x86_64/egg/causalml/dataset\n",
            "copying build/lib.linux-x86_64-3.8/causalml/dataset/__init__.py -> build/bdist.linux-x86_64/egg/causalml/dataset\n",
            "copying build/lib.linux-x86_64-3.8/causalml/dataset/regression.py -> build/bdist.linux-x86_64/egg/causalml/dataset\n",
            "copying build/lib.linux-x86_64-3.8/causalml/dataset/classification.py -> build/bdist.linux-x86_64/egg/causalml/dataset\n",
            "copying build/lib.linux-x86_64-3.8/causalml/dataset/synthetic.py -> build/bdist.linux-x86_64/egg/causalml/dataset\n",
            "creating build/bdist.linux-x86_64/egg/causalml/optimize\n",
            "copying build/lib.linux-x86_64-3.8/causalml/optimize/__init__.py -> build/bdist.linux-x86_64/egg/causalml/optimize\n",
            "copying build/lib.linux-x86_64-3.8/causalml/optimize/utils.py -> build/bdist.linux-x86_64/egg/causalml/optimize\n",
            "copying build/lib.linux-x86_64-3.8/causalml/optimize/unit_selection.py -> build/bdist.linux-x86_64/egg/causalml/optimize\n",
            "copying build/lib.linux-x86_64-3.8/causalml/optimize/policylearner.py -> build/bdist.linux-x86_64/egg/causalml/optimize\n",
            "copying build/lib.linux-x86_64-3.8/causalml/optimize/value_optimization.py -> build/bdist.linux-x86_64/egg/causalml/optimize\n",
            "copying build/lib.linux-x86_64-3.8/causalml/optimize/pns.py -> build/bdist.linux-x86_64/egg/causalml/optimize\n",
            "copying build/lib.linux-x86_64-3.8/causalml/match.py -> build/bdist.linux-x86_64/egg/causalml\n",
            "byte-compiling build/bdist.linux-x86_64/egg/causalml/inference/__init__.py to __init__.cpython-38.pyc\n",
            "byte-compiling build/bdist.linux-x86_64/egg/causalml/inference/iv/iv_regression.py to iv_regression.cpython-38.pyc\n",
            "byte-compiling build/bdist.linux-x86_64/egg/causalml/inference/iv/__init__.py to __init__.cpython-38.pyc\n",
            "byte-compiling build/bdist.linux-x86_64/egg/causalml/inference/iv/drivlearner.py to drivlearner.cpython-38.pyc\n",
            "byte-compiling build/bdist.linux-x86_64/egg/causalml/inference/nn/cevae.py to cevae.cpython-38.pyc\n",
            "byte-compiling build/bdist.linux-x86_64/egg/causalml/inference/nn/__init__.py to __init__.cpython-38.pyc\n",
            "byte-compiling build/bdist.linux-x86_64/egg/causalml/inference/meta/__init__.py to __init__.cpython-38.pyc\n",
            "byte-compiling build/bdist.linux-x86_64/egg/causalml/inference/meta/explainer.py to explainer.cpython-38.pyc\n",
            "byte-compiling build/bdist.linux-x86_64/egg/causalml/inference/meta/tmle.py to tmle.cpython-38.pyc\n",
            "byte-compiling build/bdist.linux-x86_64/egg/causalml/inference/meta/utils.py to utils.cpython-38.pyc\n",
            "byte-compiling build/bdist.linux-x86_64/egg/causalml/inference/meta/slearner.py to slearner.cpython-38.pyc\n",
            "byte-compiling build/bdist.linux-x86_64/egg/causalml/inference/meta/xlearner.py to xlearner.cpython-38.pyc\n",
            "byte-compiling build/bdist.linux-x86_64/egg/causalml/inference/meta/rlearner.py to rlearner.cpython-38.pyc\n",
            "byte-compiling build/bdist.linux-x86_64/egg/causalml/inference/meta/base.py to base.cpython-38.pyc\n",
            "byte-compiling build/bdist.linux-x86_64/egg/causalml/inference/meta/tlearner.py to tlearner.cpython-38.pyc\n",
            "byte-compiling build/bdist.linux-x86_64/egg/causalml/inference/meta/drlearner.py to drlearner.cpython-38.pyc\n",
            "byte-compiling build/bdist.linux-x86_64/egg/causalml/inference/tree/__init__.py to __init__.cpython-38.pyc\n",
            "byte-compiling build/bdist.linux-x86_64/egg/causalml/inference/tree/utils.py to utils.cpython-38.pyc\n",
            "byte-compiling build/bdist.linux-x86_64/egg/causalml/inference/tree/causal/__init__.py to __init__.cpython-38.pyc\n",
            "byte-compiling build/bdist.linux-x86_64/egg/causalml/inference/tree/causal/causaltree.py to causaltree.cpython-38.pyc\n",
            "byte-compiling build/bdist.linux-x86_64/egg/causalml/inference/tree/causal/_tree.py to _tree.cpython-38.pyc\n",
            "byte-compiling build/bdist.linux-x86_64/egg/causalml/inference/tree/causal/causalforest.py to causalforest.cpython-38.pyc\n",
            "byte-compiling build/bdist.linux-x86_64/egg/causalml/inference/tree/plot.py to plot.cpython-38.pyc\n",
            "byte-compiling build/bdist.linux-x86_64/egg/causalml/inference/tf/__init__.py to __init__.cpython-38.pyc\n",
            "byte-compiling build/bdist.linux-x86_64/egg/causalml/inference/tf/utils.py to utils.cpython-38.pyc\n",
            "byte-compiling build/bdist.linux-x86_64/egg/causalml/inference/tf/dragonnet.py to dragonnet.cpython-38.pyc\n",
            "byte-compiling build/bdist.linux-x86_64/egg/causalml/__init__.py to __init__.cpython-38.pyc\n",
            "byte-compiling build/bdist.linux-x86_64/egg/causalml/features.py to features.cpython-38.pyc\n",
            "byte-compiling build/bdist.linux-x86_64/egg/causalml/feature_selection/__init__.py to __init__.cpython-38.pyc\n",
            "byte-compiling build/bdist.linux-x86_64/egg/causalml/feature_selection/filters.py to filters.cpython-38.pyc\n",
            "byte-compiling build/bdist.linux-x86_64/egg/causalml/propensity.py to propensity.cpython-38.pyc\n",
            "byte-compiling build/bdist.linux-x86_64/egg/causalml/metrics/__init__.py to __init__.cpython-38.pyc\n",
            "byte-compiling build/bdist.linux-x86_64/egg/causalml/metrics/sensitivity.py to sensitivity.cpython-38.pyc\n",
            "byte-compiling build/bdist.linux-x86_64/egg/causalml/metrics/visualize.py to visualize.cpython-38.pyc\n",
            "byte-compiling build/bdist.linux-x86_64/egg/causalml/metrics/regression.py to regression.cpython-38.pyc\n",
            "byte-compiling build/bdist.linux-x86_64/egg/causalml/metrics/classification.py to classification.cpython-38.pyc\n",
            "byte-compiling build/bdist.linux-x86_64/egg/causalml/metrics/const.py to const.cpython-38.pyc\n",
            "byte-compiling build/bdist.linux-x86_64/egg/causalml/dataset/__init__.py to __init__.cpython-38.pyc\n",
            "byte-compiling build/bdist.linux-x86_64/egg/causalml/dataset/regression.py to regression.cpython-38.pyc\n",
            "byte-compiling build/bdist.linux-x86_64/egg/causalml/dataset/classification.py to classification.cpython-38.pyc\n",
            "byte-compiling build/bdist.linux-x86_64/egg/causalml/dataset/synthetic.py to synthetic.cpython-38.pyc\n",
            "byte-compiling build/bdist.linux-x86_64/egg/causalml/optimize/__init__.py to __init__.cpython-38.pyc\n",
            "byte-compiling build/bdist.linux-x86_64/egg/causalml/optimize/utils.py to utils.cpython-38.pyc\n",
            "byte-compiling build/bdist.linux-x86_64/egg/causalml/optimize/unit_selection.py to unit_selection.cpython-38.pyc\n",
            "byte-compiling build/bdist.linux-x86_64/egg/causalml/optimize/policylearner.py to policylearner.cpython-38.pyc\n",
            "byte-compiling build/bdist.linux-x86_64/egg/causalml/optimize/value_optimization.py to value_optimization.cpython-38.pyc\n",
            "byte-compiling build/bdist.linux-x86_64/egg/causalml/optimize/pns.py to pns.cpython-38.pyc\n",
            "byte-compiling build/bdist.linux-x86_64/egg/causalml/match.py to match.cpython-38.pyc\n",
            "creating stub loader for causalml/inference/tree/causal/_criterion.cpython-38-x86_64-linux-gnu.so\n",
            "creating stub loader for causalml/inference/tree/causal/_builder.cpython-38-x86_64-linux-gnu.so\n",
            "creating stub loader for causalml/inference/tree/uplift.cpython-38-x86_64-linux-gnu.so\n",
            "byte-compiling build/bdist.linux-x86_64/egg/causalml/inference/tree/causal/_criterion.py to _criterion.cpython-38.pyc\n",
            "byte-compiling build/bdist.linux-x86_64/egg/causalml/inference/tree/causal/_builder.py to _builder.cpython-38.pyc\n",
            "byte-compiling build/bdist.linux-x86_64/egg/causalml/inference/tree/uplift.py to uplift.cpython-38.pyc\n",
            "creating build/bdist.linux-x86_64/egg/EGG-INFO\n",
            "copying causalml.egg-info/PKG-INFO -> build/bdist.linux-x86_64/egg/EGG-INFO\n",
            "copying causalml.egg-info/SOURCES.txt -> build/bdist.linux-x86_64/egg/EGG-INFO\n",
            "copying causalml.egg-info/dependency_links.txt -> build/bdist.linux-x86_64/egg/EGG-INFO\n",
            "copying causalml.egg-info/requires.txt -> build/bdist.linux-x86_64/egg/EGG-INFO\n",
            "copying causalml.egg-info/top_level.txt -> build/bdist.linux-x86_64/egg/EGG-INFO\n",
            "writing build/bdist.linux-x86_64/egg/EGG-INFO/native_libs.txt\n",
            "zip_safe flag not set; analyzing archive contents...\n",
            "causalml.inference.tree.__pycache__.uplift.cpython-38: module references __file__\n",
            "causalml.inference.tree.causal.__pycache__._builder.cpython-38: module references __file__\n",
            "causalml.inference.tree.causal.__pycache__._criterion.cpython-38: module references __file__\n",
            "creating dist\n",
            "creating 'dist/causalml-0.13.0-py3.8-linux-x86_64.egg' and adding 'build/bdist.linux-x86_64/egg' to it\n",
            "removing 'build/bdist.linux-x86_64/egg' (and everything under it)\n",
            "Processing causalml-0.13.0-py3.8-linux-x86_64.egg\n",
            "creating /usr/local/lib/python3.8/dist-packages/causalml-0.13.0-py3.8-linux-x86_64.egg\n",
            "Extracting causalml-0.13.0-py3.8-linux-x86_64.egg to /usr/local/lib/python3.8/dist-packages\n",
            "Adding causalml 0.13.0 to easy-install.pth file\n",
            "\n",
            "Installed /usr/local/lib/python3.8/dist-packages/causalml-0.13.0-py3.8-linux-x86_64.egg\n",
            "Processing dependencies for causalml==0.13.0\n",
            "Searching for graphviz==0.10.1\n",
            "Best match: graphviz 0.10.1\n",
            "Adding graphviz 0.10.1 to easy-install.pth file\n",
            "\n",
            "Using /usr/local/lib/python3.8/dist-packages\n",
            "Searching for pyro-ppl==1.8.4\n",
            "Best match: pyro-ppl 1.8.4\n",
            "Adding pyro-ppl 1.8.4 to easy-install.pth file\n",
            "\n",
            "Using /usr/local/lib/python3.8/dist-packages\n",
            "Searching for torch==1.13.1+cu116\n",
            "Best match: torch 1.13.1+cu116\n",
            "Adding torch 1.13.1+cu116 to easy-install.pth file\n",
            "Installing convert-caffe2-to-onnx script to /usr/local/bin\n",
            "Installing convert-onnx-to-caffe2 script to /usr/local/bin\n",
            "Installing torchrun script to /usr/local/bin\n",
            "\n",
            "Using /usr/local/lib/python3.8/dist-packages\n",
            "Searching for packaging==23.0\n",
            "Best match: packaging 23.0\n",
            "Adding packaging 23.0 to easy-install.pth file\n",
            "\n",
            "Using /usr/local/lib/python3.8/dist-packages\n",
            "Searching for pygam==0.8.0\n",
            "Best match: pygam 0.8.0\n",
            "Adding pygam 0.8.0 to easy-install.pth file\n",
            "\n",
            "Using /usr/local/lib/python3.8/dist-packages\n",
            "Searching for lightgbm==2.2.3\n",
            "Best match: lightgbm 2.2.3\n",
            "Adding lightgbm 2.2.3 to easy-install.pth file\n",
            "\n",
            "Using /usr/local/lib/python3.8/dist-packages\n",
            "Searching for dill==0.3.6\n",
            "Best match: dill 0.3.6\n",
            "Adding dill 0.3.6 to easy-install.pth file\n",
            "\n",
            "Using /usr/local/lib/python3.8/dist-packages\n",
            "Searching for shap==0.41.0\n",
            "Best match: shap 0.41.0\n",
            "Adding shap 0.41.0 to easy-install.pth file\n",
            "\n",
            "Using /usr/local/lib/python3.8/dist-packages\n",
            "Searching for tqdm==4.64.1\n",
            "Best match: tqdm 4.64.1\n",
            "Adding tqdm 4.64.1 to easy-install.pth file\n",
            "Installing tqdm script to /usr/local/bin\n",
            "\n",
            "Using /usr/local/lib/python3.8/dist-packages\n",
            "Searching for pydotplus==2.0.2\n",
            "Best match: pydotplus 2.0.2\n",
            "Adding pydotplus 2.0.2 to easy-install.pth file\n",
            "\n",
            "Using /usr/local/lib/python3.8/dist-packages\n",
            "Searching for xgboost==0.90\n",
            "Best match: xgboost 0.90\n",
            "Adding xgboost 0.90 to easy-install.pth file\n",
            "\n",
            "Using /usr/local/lib/python3.8/dist-packages\n",
            "Searching for Cython==0.29.33\n",
            "Best match: Cython 0.29.33\n",
            "Adding Cython 0.29.33 to easy-install.pth file\n",
            "Installing cygdb script to /usr/local/bin\n",
            "Installing cython script to /usr/local/bin\n",
            "Installing cythonize script to /usr/local/bin\n",
            "\n",
            "Using /usr/local/lib/python3.8/dist-packages\n",
            "Searching for seaborn==0.11.2\n",
            "Best match: seaborn 0.11.2\n",
            "Adding seaborn 0.11.2 to easy-install.pth file\n",
            "\n",
            "Using /usr/local/lib/python3.8/dist-packages\n",
            "Searching for statsmodels==0.12.2\n",
            "Best match: statsmodels 0.12.2\n",
            "Adding statsmodels 0.12.2 to easy-install.pth file\n",
            "\n",
            "Using /usr/local/lib/python3.8/dist-packages\n",
            "Searching for scikit-learn==1.0.2\n",
            "Best match: scikit-learn 1.0.2\n",
            "Adding scikit-learn 1.0.2 to easy-install.pth file\n",
            "\n",
            "Using /usr/local/lib/python3.8/dist-packages\n",
            "Searching for pandas==1.3.5\n",
            "Best match: pandas 1.3.5\n",
            "Adding pandas 1.3.5 to easy-install.pth file\n",
            "\n",
            "Using /usr/local/lib/python3.8/dist-packages\n",
            "Searching for matplotlib==3.2.2\n",
            "Best match: matplotlib 3.2.2\n",
            "Adding matplotlib 3.2.2 to easy-install.pth file\n",
            "\n",
            "Using /usr/local/lib/python3.8/dist-packages\n",
            "Searching for scipy==1.7.3\n",
            "Best match: scipy 1.7.3\n",
            "Adding scipy 1.7.3 to easy-install.pth file\n",
            "\n",
            "Using /usr/local/lib/python3.8/dist-packages\n",
            "Searching for numpy==1.21.6\n",
            "Best match: numpy 1.21.6\n",
            "Adding numpy 1.21.6 to easy-install.pth file\n",
            "Installing f2py script to /usr/local/bin\n",
            "Installing f2py3 script to /usr/local/bin\n",
            "Installing f2py3.8 script to /usr/local/bin\n",
            "\n",
            "Using /usr/local/lib/python3.8/dist-packages\n",
            "Searching for pip==22.0.4\n",
            "Best match: pip 22.0.4\n",
            "Adding pip 22.0.4 to easy-install.pth file\n",
            "Installing pip script to /usr/local/bin\n",
            "Installing pip3 script to /usr/local/bin\n",
            "Installing pip3.9 script to /usr/local/bin\n",
            "\n",
            "Using /usr/local/lib/python3.8/dist-packages\n",
            "Searching for pathos==0.2.9\n",
            "Best match: pathos 0.2.9\n",
            "Adding pathos 0.2.9 to easy-install.pth file\n",
            "\n",
            "Using /usr/local/lib/python3.8/dist-packages\n",
            "Searching for forestci==0.6\n",
            "Best match: forestci 0.6\n",
            "Adding forestci 0.6 to easy-install.pth file\n",
            "\n",
            "Using /usr/local/lib/python3.8/dist-packages\n",
            "Searching for setuptools==57.4.0\n",
            "Best match: setuptools 57.4.0\n",
            "Adding setuptools 57.4.0 to easy-install.pth file\n",
            "\n",
            "Using /usr/local/lib/python3.8/dist-packages\n",
            "Searching for pyro-api==0.1.2\n",
            "Best match: pyro-api 0.1.2\n",
            "Adding pyro-api 0.1.2 to easy-install.pth file\n",
            "\n",
            "Using /usr/local/lib/python3.8/dist-packages\n",
            "Searching for opt-einsum==3.3.0\n",
            "Best match: opt-einsum 3.3.0\n",
            "Adding opt-einsum 3.3.0 to easy-install.pth file\n",
            "\n",
            "Using /usr/local/lib/python3.8/dist-packages\n",
            "Searching for typing-extensions==4.4.0\n",
            "Best match: typing-extensions 4.4.0\n",
            "Adding typing-extensions 4.4.0 to easy-install.pth file\n",
            "\n",
            "Using /usr/local/lib/python3.8/dist-packages\n",
            "Searching for progressbar2==3.38.0\n",
            "Best match: progressbar2 3.38.0\n",
            "Adding progressbar2 3.38.0 to easy-install.pth file\n",
            "\n",
            "Using /usr/local/lib/python3.8/dist-packages\n",
            "Searching for future==0.16.0\n",
            "Best match: future 0.16.0\n",
            "Adding future 0.16.0 to easy-install.pth file\n",
            "Installing futurize script to /usr/local/bin\n",
            "Installing pasteurize script to /usr/local/bin\n",
            "\n",
            "Using /usr/local/lib/python3.8/dist-packages\n",
            "Searching for cloudpickle==2.2.1\n",
            "Best match: cloudpickle 2.2.1\n",
            "Adding cloudpickle 2.2.1 to easy-install.pth file\n",
            "\n",
            "Using /usr/local/lib/python3.8/dist-packages\n",
            "Searching for numba==0.56.4\n",
            "Best match: numba 0.56.4\n",
            "Adding numba 0.56.4 to easy-install.pth file\n",
            "\n",
            "Using /usr/local/lib/python3.8/dist-packages\n",
            "Searching for slicer==0.0.7\n",
            "Best match: slicer 0.0.7\n",
            "Adding slicer 0.0.7 to easy-install.pth file\n",
            "\n",
            "Using /usr/local/lib/python3.8/dist-packages\n",
            "Searching for pyparsing==3.0.9\n",
            "Best match: pyparsing 3.0.9\n",
            "Adding pyparsing 3.0.9 to easy-install.pth file\n",
            "\n",
            "Using /usr/local/lib/python3.8/dist-packages\n",
            "Searching for patsy==0.5.3\n",
            "Best match: patsy 0.5.3\n",
            "Adding patsy 0.5.3 to easy-install.pth file\n",
            "\n",
            "Using /usr/local/lib/python3.8/dist-packages\n",
            "Searching for joblib==1.2.0\n",
            "Best match: joblib 1.2.0\n",
            "Adding joblib 1.2.0 to easy-install.pth file\n",
            "\n",
            "Using /usr/local/lib/python3.8/dist-packages\n",
            "Searching for threadpoolctl==3.1.0\n",
            "Best match: threadpoolctl 3.1.0\n",
            "Adding threadpoolctl 3.1.0 to easy-install.pth file\n",
            "\n",
            "Using /usr/local/lib/python3.8/dist-packages\n",
            "Searching for pytz==2022.7.1\n",
            "Best match: pytz 2022.7.1\n",
            "Adding pytz 2022.7.1 to easy-install.pth file\n",
            "\n",
            "Using /usr/local/lib/python3.8/dist-packages\n",
            "Searching for python-dateutil==2.8.2\n",
            "Best match: python-dateutil 2.8.2\n",
            "Adding python-dateutil 2.8.2 to easy-install.pth file\n",
            "\n",
            "Using /usr/local/lib/python3.8/dist-packages\n",
            "Searching for cycler==0.11.0\n",
            "Best match: cycler 0.11.0\n",
            "Adding cycler 0.11.0 to easy-install.pth file\n",
            "\n",
            "Using /usr/local/lib/python3.8/dist-packages\n",
            "Searching for kiwisolver==1.4.4\n",
            "Best match: kiwisolver 1.4.4\n",
            "Adding kiwisolver 1.4.4 to easy-install.pth file\n",
            "\n",
            "Using /usr/local/lib/python3.8/dist-packages\n",
            "Searching for multiprocess==0.70.14\n",
            "Best match: multiprocess 0.70.14\n",
            "Adding multiprocess 0.70.14 to easy-install.pth file\n",
            "\n",
            "Using /usr/local/lib/python3.8/dist-packages\n",
            "Searching for pox==0.3.2\n",
            "Best match: pox 0.3.2\n",
            "Adding pox 0.3.2 to easy-install.pth file\n",
            "\n",
            "Using /usr/local/lib/python3.8/dist-packages\n",
            "Searching for ppft==1.7.6.6\n",
            "Best match: ppft 1.7.6.6\n",
            "Adding ppft 1.7.6.6 to easy-install.pth file\n",
            "\n",
            "Using /usr/local/lib/python3.8/dist-packages\n",
            "Searching for python-utils==3.4.5\n",
            "Best match: python-utils 3.4.5\n",
            "Adding python-utils 3.4.5 to easy-install.pth file\n",
            "\n",
            "Using /usr/local/lib/python3.8/dist-packages\n",
            "Searching for six==1.15.0\n",
            "Best match: six 1.15.0\n",
            "Adding six 1.15.0 to easy-install.pth file\n",
            "\n",
            "Using /usr/local/lib/python3.8/dist-packages\n",
            "Searching for importlib-metadata==6.0.0\n",
            "Best match: importlib-metadata 6.0.0\n",
            "Adding importlib-metadata 6.0.0 to easy-install.pth file\n",
            "\n",
            "Using /usr/local/lib/python3.8/dist-packages\n",
            "Searching for llvmlite==0.39.1\n",
            "Best match: llvmlite 0.39.1\n",
            "Adding llvmlite 0.39.1 to easy-install.pth file\n",
            "\n",
            "Using /usr/local/lib/python3.8/dist-packages\n",
            "Searching for zipp==3.12.0\n",
            "Best match: zipp 3.12.0\n",
            "Adding zipp 3.12.0 to easy-install.pth file\n",
            "\n",
            "Using /usr/local/lib/python3.8/dist-packages\n",
            "Finished processing dependencies for causalml==0.13.0\n"
          ]
        }
      ]
    },
    {
      "cell_type": "code",
      "source": [
        "%%time\n",
        "\n",
        "from IPython.display import Image\n",
        "\n",
        "from causalml.inference.tree import UpliftTreeClassifier, UpliftRandomForestClassifier\n",
        "from causalml.inference.tree import uplift_tree_string, uplift_tree_plot\n",
        "\n",
        "uplift_model = UpliftTreeClassifier(max_depth=3, min_samples_leaf=200, min_samples_treatment=50,\n",
        "                                    n_reg=100, evaluationFunction='KL', control_name='control')\n",
        "\n",
        "uplift_model.fit(X_train.values,\n",
        "                 treatment=treat_train.map({1: 'treatment1', 0: 'control'}).values,\n",
        "                 y=y_train)\n",
        "\n",
        "graph = uplift_tree_plot(uplift_model.fitted_uplift_tree, features)\n",
        "Image(graph.create_png())"
      ],
      "metadata": {
        "colab": {
          "base_uri": "https://localhost:8080/",
          "height": 611
        },
        "id": "zEcQefq1Qg3L",
        "outputId": "d4282228-1a0a-4e2a-edda-13a9ff65c9ff"
      },
      "execution_count": 52,
      "outputs": [
        {
          "output_type": "stream",
          "name": "stdout",
          "text": [
            "CPU times: user 905 ms, sys: 92 ms, total: 997 ms\n",
            "Wall time: 1.13 s\n"
          ]
        },
        {
          "output_type": "execute_result",
          "data": {
            "image/png": "[encoded data removed]",
            "text/plain": [
              "<IPython.core.display.Image object>"
            ]
          },
          "metadata": {},
          "execution_count": 52
        }
      ]
    }
  ]
}